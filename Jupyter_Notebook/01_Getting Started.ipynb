{
 "cells": [
  {
   "cell_type": "code",
   "execution_count": 1,
   "id": "c28e62c2",
   "metadata": {
    "scrolled": true
   },
   "outputs": [
    {
     "name": "stdout",
     "output_type": "stream",
     "text": [
      "hello world\n"
     ]
    }
   ],
   "source": [
    "print(\"hello world\")"
   ]
  },
  {
   "cell_type": "markdown",
   "id": "c33928ed",
   "metadata": {},
   "source": [
    "## 命令模式\n",
    "\n",
    "【蓝色】命令模式下进入编辑模式：`ENTER`\n",
    "\n",
    "## 编辑模式\n",
    "\n",
    "【绿色】编辑模式下进入命令模式：`ESC`"
   ]
  },
  {
   "cell_type": "code",
   "execution_count": 9,
   "id": "c430dd3f",
   "metadata": {},
   "outputs": [],
   "source": [
    "a = 5"
   ]
  },
  {
   "cell_type": "code",
   "execution_count": 10,
   "id": "28f4e855",
   "metadata": {},
   "outputs": [
    {
     "data": {
      "text/plain": [
       "5"
      ]
     },
     "execution_count": 10,
     "metadata": {},
     "output_type": "execute_result"
    }
   ],
   "source": [
    "a"
   ]
  },
  {
   "cell_type": "code",
   "execution_count": 11,
   "id": "2ee87acb",
   "metadata": {},
   "outputs": [
    {
     "data": {
      "text/plain": [
       "5050"
      ]
     },
     "execution_count": 11,
     "metadata": {},
     "output_type": "execute_result"
    }
   ],
   "source": [
    "sum(range(101))"
   ]
  },
  {
   "cell_type": "markdown",
   "id": "94b2009a",
   "metadata": {},
   "source": [
    "$E=mc^2$\n",
    "\n",
    "$a=x+b$"
   ]
  },
  {
   "cell_type": "markdown",
   "id": "fb005bbc",
   "metadata": {},
   "source": [
    "$$\\frac{2}[x+y]$$"
   ]
  },
  {
   "cell_type": "markdown",
   "id": "c9aad139",
   "metadata": {},
   "source": [
    "$$ x= \\frac{-b\\pm \\sqrt{b^2-4ac}}{2a} $$"
   ]
  },
  {
   "cell_type": "markdown",
   "id": "169dbbe8",
   "metadata": {},
   "source": [
    "[baidu](baidu.com)\n",
    "![photo](https://img2.baidu.com/it/u=4084621093,2971972319&fm=253&fmt=auto&app=120&f=JPEG?w=889&h=500.jpg)"
   ]
  },
  {
   "cell_type": "markdown",
   "id": "87e7e70f",
   "metadata": {},
   "source": [
    "# 快速入门Jupyter notebook P1 - 08:04\n",
    "\n",
    "命令（蓝色框）模式 `回车` 到编辑模式\n",
    "\n",
    "编辑（绿色框）模式 `ESC` 到命令模式"
   ]
  },
  {
   "cell_type": "markdown",
   "id": "e1fd3ac1",
   "metadata": {},
   "source": [
    "# 快速入门Jupyter notebook P1 - 09:08\n",
    "命令模式下：\n",
    "\n",
    "`m`键，可以直接输入markdown格式内容\n",
    "\n",
    "按`y`，可以变回代码格式"
   ]
  },
  {
   "cell_type": "markdown",
   "id": "0994a7f1",
   "metadata": {},
   "source": [
    "# 快速入门Jupyter notebook P1 - 09:15\n",
    "\n",
    "## 命令模式下：\n",
    "`Shift➕回车` 运行当前代码块，并跳到下一个代码块\n",
    "\n",
    "`Ctrl➕回车`，只会运行当前代码块\n",
    "\n",
    "`Alt➕回车`，运行当前代码块，并向下新建一个代码块\n",
    "\n",
    "按`b`，向下新建一个代码块\n",
    "\n",
    "按`a`，向上新建一个代码块\n",
    "\n",
    "按`c`，复制当前代码块（单元格）\n",
    "\n",
    "按`x`，剪切掉当前代码块\n",
    "\n",
    "按`v`，粘贴到当前代码块；按`shift➕v`，粘贴到上一个代码块\n",
    "\n",
    "按`z`，撤回操作\n",
    "\n",
    "对于多行代码，在代码块命令模式下，按`L`，可以对代码标行数\n",
    "\n",
    "按`dd`（两次），删除代码块"
   ]
  },
  {
   "cell_type": "markdown",
   "id": "51e7d0c8",
   "metadata": {},
   "source": [
    "# 快速入门Jupyter notebook P1 - 10:04\n",
    "看up另外的一个视频：20分钟精通排板神器markdown"
   ]
  },
  {
   "cell_type": "markdown",
   "id": "9efd181d",
   "metadata": {},
   "source": [
    "# 快速入门Jupyter notebook P1 - 10:40\n",
    "按h键，可以调出markdown的快捷键介绍表格"
   ]
  },
  {
   "cell_type": "markdown",
   "id": "0a6e60f6",
   "metadata": {},
   "source": [
    "# 快速入门Jupyter notebook P1 - 13:49\n",
    "`$ 与 $` 之间，表示：当前行内，内联公式\n",
    "\n",
    "`$$ 与 $$` 之间，表示：单独一行公式\n",
    "\n",
    "Latex，公式编辑器强大"
   ]
  }
 ],
 "metadata": {
  "kernelspec": {
   "display_name": "Python 3 (ipykernel)",
   "language": "python",
   "name": "python3"
  },
  "language_info": {
   "codemirror_mode": {
    "name": "ipython",
    "version": 3
   },
   "file_extension": ".py",
   "mimetype": "text/x-python",
   "name": "python",
   "nbconvert_exporter": "python",
   "pygments_lexer": "ipython3",
   "version": "3.9.12"
  }
 },
 "nbformat": 4,
 "nbformat_minor": 5
}
