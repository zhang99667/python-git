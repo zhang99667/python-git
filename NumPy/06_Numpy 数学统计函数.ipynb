{
 "cells": [
  {
   "cell_type": "markdown",
   "id": "58da05b9",
   "metadata": {},
   "source": [
    "## Numpy 数学统计函数"
   ]
  },
  {
   "cell_type": "markdown",
   "id": "85888c65",
   "metadata": {},
   "source": [
    "本节内容：\n",
    "\n",
    "#### 1、Numpy 有哪些数学统计函数：\n",
    "\n",
    "|函数名|说明|\n",
    "|:----|----|\n",
    "|`np.sum`|所有元素的和|\n",
    "|`np.prod`|所有元素的乘积|\n",
    "|`np.cumsum`|元素的累积加和|\n",
    "|`np.cumprod`|元素的累积乘积|\n",
    "|`np.min`|最小值|\n",
    "|`np.max`|最大值|\n",
    "|`np.percentile`|0 - 100百分位数|\n",
    "|`np.quantile`|0 - 1 分位数|\n",
    "|`np.median`|中位数|\n",
    "|`np.average`|加权平均，参数可以指定 weights|\n",
    "|`np.mean`|平均值|\n",
    "|`np.std`|标准差|\n",
    "|`np.var`|方差|"
   ]
  },
  {
   "cell_type": "markdown",
   "id": "d0417ca5",
   "metadata": {},
   "source": [
    "#### 2、怎样实现按不同 axis 计算\n",
    "\n",
    "以上函数，都有一个参数叫做 `axis` 用于指定计算轴为行还是列，如果不指定，那么会计算所有元素的结果\n"
   ]
  },
  {
   "cell_type": "markdown",
   "id": "b5906e49",
   "metadata": {},
   "source": [
    "##### 3、实例：机器学习将数据进行标准化\n",
    "\n",
    "`A = (A - mean(A, axis=0) / std(A, axis=0))`"
   ]
  },
  {
   "cell_type": "markdown",
   "id": "07ada17b",
   "metadata": {},
   "source": [
    "### 1、Numpy 的数学统计函数"
   ]
  },
  {
   "cell_type": "code",
   "execution_count": 2,
   "id": "7483ea42",
   "metadata": {},
   "outputs": [],
   "source": [
    "import numpy as np"
   ]
  },
  {
   "cell_type": "code",
   "execution_count": 3,
   "id": "3d5c2feb",
   "metadata": {},
   "outputs": [
    {
     "data": {
      "text/plain": [
       "array([[ 0,  1,  2,  3],\n",
       "       [ 4,  5,  6,  7],\n",
       "       [ 8,  9, 10, 11]])"
      ]
     },
     "execution_count": 3,
     "metadata": {},
     "output_type": "execute_result"
    }
   ],
   "source": [
    "arr = np.arange(12).reshape(3, 4)\n",
    "arr"
   ]
  },
  {
   "cell_type": "code",
   "execution_count": 4,
   "id": "90ecb708",
   "metadata": {},
   "outputs": [
    {
     "data": {
      "text/plain": [
       "66"
      ]
     },
     "execution_count": 4,
     "metadata": {},
     "output_type": "execute_result"
    }
   ],
   "source": [
    "np.sum(arr) # 所有元素的和"
   ]
  },
  {
   "cell_type": "code",
   "execution_count": 5,
   "id": "33011e54",
   "metadata": {},
   "outputs": [
    {
     "data": {
      "text/plain": [
       "0"
      ]
     },
     "execution_count": 5,
     "metadata": {},
     "output_type": "execute_result"
    }
   ],
   "source": [
    "np.prod(arr) # 所有元素的乘积"
   ]
  },
  {
   "cell_type": "code",
   "execution_count": 8,
   "id": "1cce9e25",
   "metadata": {},
   "outputs": [
    {
     "data": {
      "text/plain": [
       "array([ 0,  1,  3,  6, 10, 15, 21, 28, 36, 45, 55, 66])"
      ]
     },
     "execution_count": 8,
     "metadata": {},
     "output_type": "execute_result"
    }
   ],
   "source": [
    "np.cumsum(arr) # 元素的累积加和，前几个元素累积求和"
   ]
  },
  {
   "cell_type": "code",
   "execution_count": 9,
   "id": "f0a950f0",
   "metadata": {},
   "outputs": [
    {
     "data": {
      "text/plain": [
       "array([0, 0, 0, 0, 0, 0, 0, 0, 0, 0, 0, 0])"
      ]
     },
     "execution_count": 9,
     "metadata": {},
     "output_type": "execute_result"
    }
   ],
   "source": [
    "np.cumprod(arr) # 元素的累积乘积，因为第一个元素是 0，所以累乘也是 0"
   ]
  },
  {
   "cell_type": "code",
   "execution_count": 10,
   "id": "318a7f82",
   "metadata": {},
   "outputs": [
    {
     "data": {
      "text/plain": [
       "0"
      ]
     },
     "execution_count": 10,
     "metadata": {},
     "output_type": "execute_result"
    }
   ],
   "source": [
    "np.min(arr) # 最小值"
   ]
  },
  {
   "cell_type": "code",
   "execution_count": 11,
   "id": "170259bd",
   "metadata": {},
   "outputs": [
    {
     "data": {
      "text/plain": [
       "11"
      ]
     },
     "execution_count": 11,
     "metadata": {},
     "output_type": "execute_result"
    }
   ],
   "source": [
    "np.max(arr) # 最大值"
   ]
  },
  {
   "cell_type": "code",
   "execution_count": 12,
   "id": "36e6e6c2",
   "metadata": {},
   "outputs": [
    {
     "data": {
      "text/plain": [
       "array([2.75, 5.5 , 7.7 ])"
      ]
     },
     "execution_count": 12,
     "metadata": {},
     "output_type": "execute_result"
    }
   ],
   "source": [
    "np.percentile(arr, [25, 50, 70])"
   ]
  },
  {
   "cell_type": "code",
   "execution_count": 13,
   "id": "a313e717",
   "metadata": {},
   "outputs": [
    {
     "data": {
      "text/plain": [
       "array([2.75, 5.5 , 8.25])"
      ]
     },
     "execution_count": 13,
     "metadata": {},
     "output_type": "execute_result"
    }
   ],
   "source": [
    "np.quantile(arr, [0.25, 0.5, 0.75])"
   ]
  },
  {
   "cell_type": "code",
   "execution_count": 14,
   "id": "e655cda4",
   "metadata": {},
   "outputs": [
    {
     "data": {
      "text/plain": [
       "5.5"
      ]
     },
     "execution_count": 14,
     "metadata": {},
     "output_type": "execute_result"
    }
   ],
   "source": [
    "np.median(arr) # 中位数"
   ]
  },
  {
   "cell_type": "code",
   "execution_count": 15,
   "id": "c0f0415a",
   "metadata": {},
   "outputs": [
    {
     "data": {
      "text/plain": [
       "5.5"
      ]
     },
     "execution_count": 15,
     "metadata": {},
     "output_type": "execute_result"
    }
   ],
   "source": [
    "np.mean(arr) # 平均值"
   ]
  },
  {
   "cell_type": "code",
   "execution_count": 16,
   "id": "ea189d48",
   "metadata": {},
   "outputs": [
    {
     "data": {
      "text/plain": [
       "3.452052529534663"
      ]
     },
     "execution_count": 16,
     "metadata": {},
     "output_type": "execute_result"
    }
   ],
   "source": [
    "np.std(arr) # 标准差"
   ]
  },
  {
   "cell_type": "code",
   "execution_count": 17,
   "id": "c7a13c20",
   "metadata": {},
   "outputs": [
    {
     "data": {
      "text/plain": [
       "11.916666666666666"
      ]
     },
     "execution_count": 17,
     "metadata": {},
     "output_type": "execute_result"
    }
   ],
   "source": [
    "np.var(arr) # 方差"
   ]
  },
  {
   "cell_type": "code",
   "execution_count": 18,
   "id": "6f19241c",
   "metadata": {},
   "outputs": [
    {
     "data": {
      "text/plain": [
       "5.990803458219529"
      ]
     },
     "execution_count": 18,
     "metadata": {},
     "output_type": "execute_result"
    }
   ],
   "source": [
    "# weights 的 shape 需要和 arr 一样\n",
    "weights = np.random.rand(*arr.shape)\n",
    "np.average(arr, weights=weights)"
   ]
  },
  {
   "cell_type": "markdown",
   "id": "ee7f56d9",
   "metadata": {},
   "source": [
    "### 2、Numpy 的 axis 参数的用途\n",
    "\n",
    "`axis=0` 代表行、`axis=1` 代表列\n",
    "\n",
    "对于 sum / mean / media 等 **聚合函数**：\n",
    "\n",
    "- 理解 1：`axis=0` 代表把行消解掉，`axis=1` 代表把列消解掉\n",
    "- 理解 2：`axis=0` 代表跨行计算，`axis=1` 代表跨列计算"
   ]
  },
  {
   "cell_type": "code",
   "execution_count": 19,
   "id": "27300bc3",
   "metadata": {},
   "outputs": [
    {
     "data": {
      "text/plain": [
       "array([[ 0,  1,  2,  3],\n",
       "       [ 4,  5,  6,  7],\n",
       "       [ 8,  9, 10, 11]])"
      ]
     },
     "execution_count": 19,
     "metadata": {},
     "output_type": "execute_result"
    }
   ],
   "source": [
    "arr"
   ]
  },
  {
   "cell_type": "code",
   "execution_count": 21,
   "id": "6141eac0",
   "metadata": {},
   "outputs": [
    {
     "data": {
      "text/plain": [
       "array([12, 15, 18, 21])"
      ]
     },
     "execution_count": 21,
     "metadata": {},
     "output_type": "execute_result"
    }
   ],
   "source": [
    "arr.sum(axis=0) # 每一列结果的求和"
   ]
  },
  {
   "cell_type": "code",
   "execution_count": 23,
   "id": "1d883031",
   "metadata": {},
   "outputs": [
    {
     "data": {
      "text/plain": [
       "array([ 6, 22, 38])"
      ]
     },
     "execution_count": 23,
     "metadata": {},
     "output_type": "execute_result"
    }
   ],
   "source": [
    "arr.sum(axis=1) # 每一行结果的求和"
   ]
  },
  {
   "cell_type": "code",
   "execution_count": 24,
   "id": "69c47f50",
   "metadata": {},
   "outputs": [
    {
     "data": {
      "text/plain": [
       "array([[ 0,  1,  2,  3],\n",
       "       [ 4,  6,  8, 10],\n",
       "       [12, 15, 18, 21]])"
      ]
     },
     "execution_count": 24,
     "metadata": {},
     "output_type": "execute_result"
    }
   ],
   "source": [
    "arr.cumsum(axis=0) # 按列累积求和"
   ]
  },
  {
   "cell_type": "code",
   "execution_count": 26,
   "id": "5d948570",
   "metadata": {},
   "outputs": [
    {
     "data": {
      "text/plain": [
       "array([[ 0,  1,  3,  6],\n",
       "       [ 4,  9, 15, 22],\n",
       "       [ 8, 17, 27, 38]])"
      ]
     },
     "execution_count": 26,
     "metadata": {},
     "output_type": "execute_result"
    }
   ],
   "source": [
    "arr.cumsum(axis=1) # 按行累积求和"
   ]
  },
  {
   "cell_type": "markdown",
   "id": "6d733b2c",
   "metadata": {},
   "source": [
    "### 3、实例：机器学习将数据进行标准化"
   ]
  },
  {
   "cell_type": "code",
   "execution_count": 28,
   "id": "b88d3758",
   "metadata": {},
   "outputs": [
    {
     "data": {
      "text/plain": [
       "array([[ 0,  1,  2,  3],\n",
       "       [ 4,  5,  6,  7],\n",
       "       [ 8,  9, 10, 11]])"
      ]
     },
     "execution_count": 28,
     "metadata": {},
     "output_type": "execute_result"
    }
   ],
   "source": [
    "arr"
   ]
  },
  {
   "cell_type": "markdown",
   "id": "ef838414",
   "metadata": {},
   "source": [
    "arr 如果对应到现实世界的一种解释：\n",
    "\n",
    "- 行：每行对应一个样本数据\n",
    "- 列：每列代表样本的一个特征\n",
    "\n",
    "数据标准化：\n",
    "\n",
    "- 对比机器学习、神经网络来说，不同列的 **量纲** 应该相同，训练收敛的更快；\n",
    "- 比如商品的价格是 0 到 100 元、销量是 1 万到 10 万个，这俩数字没有可比性，因此需要先都做标准化；\n",
    "- 不同列代表不同的特征，因此需要 `axis=0` 做计算\n",
    "- 标准化一般使用 `A = (A - mean(A, axis=0)) / std(A, axis=0)` 公式进行（每一列减去均值，除以方差）"
   ]
  },
  {
   "cell_type": "code",
   "execution_count": 29,
   "id": "9ae81a7e",
   "metadata": {},
   "outputs": [
    {
     "data": {
      "text/plain": [
       "array([4., 5., 6., 7.])"
      ]
     },
     "execution_count": 29,
     "metadata": {},
     "output_type": "execute_result"
    }
   ],
   "source": [
    "# 计算每列的均值\n",
    "mean = np.mean(arr, axis=0)\n",
    "mean"
   ]
  },
  {
   "cell_type": "code",
   "execution_count": 30,
   "id": "f894e3c9",
   "metadata": {},
   "outputs": [
    {
     "data": {
      "text/plain": [
       "array([3.26598632, 3.26598632, 3.26598632, 3.26598632])"
      ]
     },
     "execution_count": 30,
     "metadata": {},
     "output_type": "execute_result"
    }
   ],
   "source": [
    "# 计算每列的方差\n",
    "std = np.std(arr, axis=0)\n",
    "std"
   ]
  },
  {
   "cell_type": "code",
   "execution_count": 32,
   "id": "5f1a7500",
   "metadata": {},
   "outputs": [
    {
     "data": {
      "text/plain": [
       "array([[-4., -4., -4., -4.],\n",
       "       [ 0.,  0.,  0.,  0.],\n",
       "       [ 4.,  4.,  4.,  4.]])"
      ]
     },
     "execution_count": 32,
     "metadata": {},
     "output_type": "execute_result"
    }
   ],
   "source": [
    "# 计算标准化的分子，A - mean(A, axis=0)\n",
    "# 注意每行都会分别减去 [4., 5., 6., 7.]，这叫做 numpy 的广播\n",
    "fenzi = arr - mean\n",
    "fenzi"
   ]
  },
  {
   "cell_type": "code",
   "execution_count": 33,
   "id": "48a9df18",
   "metadata": {},
   "outputs": [
    {
     "data": {
      "text/plain": [
       "array([[-1.22474487, -1.22474487, -1.22474487, -1.22474487],\n",
       "       [ 0.        ,  0.        ,  0.        ,  0.        ],\n",
       "       [ 1.22474487,  1.22474487,  1.22474487,  1.22474487]])"
      ]
     },
     "execution_count": 33,
     "metadata": {},
     "output_type": "execute_result"
    }
   ],
   "source": [
    "# 计算结果\n",
    "result = fenzi / std\n",
    "result"
   ]
  },
  {
   "cell_type": "markdown",
   "id": "b6410138",
   "metadata": {},
   "source": [
    "### 用随机数再试一次"
   ]
  },
  {
   "cell_type": "code",
   "execution_count": 35,
   "id": "3f2f2223",
   "metadata": {},
   "outputs": [
    {
     "data": {
      "text/plain": [
       "array([[16, 88, 92,  3],\n",
       "       [46, 37, 67, 38],\n",
       "       [56, 15, 99, 91]])"
      ]
     },
     "execution_count": 35,
     "metadata": {},
     "output_type": "execute_result"
    }
   ],
   "source": [
    "arr2 = np.random.randint(1, 100, size=(3, 4))\n",
    "arr2"
   ]
  },
  {
   "cell_type": "code",
   "execution_count": 36,
   "id": "0a7d4c11",
   "metadata": {},
   "outputs": [
    {
     "data": {
      "text/plain": [
       "array([[-1.37281295,  1.35182487,  0.43682115, -1.1333638 ],\n",
       "       [ 0.39223227, -0.31615259, -1.38326699, -0.16585812],\n",
       "       [ 0.98058068, -1.03567228,  0.94644583,  1.29922192]])"
      ]
     },
     "execution_count": 36,
     "metadata": {},
     "output_type": "execute_result"
    }
   ],
   "source": [
    "result = (arr2 - np.mean(arr2, axis=0)) / np.std(arr2, axis=0)\n",
    "result"
   ]
  }
 ],
 "metadata": {
  "kernelspec": {
   "display_name": "Python 3 (ipykernel)",
   "language": "python",
   "name": "python3"
  },
  "language_info": {
   "codemirror_mode": {
    "name": "ipython",
    "version": 3
   },
   "file_extension": ".py",
   "mimetype": "text/x-python",
   "name": "python",
   "nbconvert_exporter": "python",
   "pygments_lexer": "ipython3",
   "version": "3.9.12"
  }
 },
 "nbformat": 4,
 "nbformat_minor": 5
}
