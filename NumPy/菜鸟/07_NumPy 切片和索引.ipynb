{
 "cells": [
  {
   "cell_type": "markdown",
   "id": "33d13302",
   "metadata": {},
   "source": [
    "# NumPy 切片和索引\n",
    "\n",
    "ndarray 对象的内容可以通过 **索引** 或 **切片** 来 **访问和修改**，与 Python 中 list 的切片操作一样。\n",
    "\n",
    "ndarray 数组可以基于 `0 - n` 的下标进行索引，切片对象可以通过内置的 `slice` 函数，并设置 `start`, `stop` 及 `step` 参数进行，从原数组中 **切割** 出一个新数组。"
   ]
  },
  {
   "cell_type": "markdown",
   "id": "b2a9ffae",
   "metadata": {},
   "source": [
    "#### 实例"
   ]
  },
  {
   "cell_type": "code",
   "execution_count": 2,
   "id": "45c94fa1",
   "metadata": {},
   "outputs": [],
   "source": [
    "import numpy as np"
   ]
  },
  {
   "cell_type": "code",
   "execution_count": 9,
   "id": "d0962016",
   "metadata": {},
   "outputs": [
    {
     "data": {
      "text/plain": [
       "array([2, 4, 6])"
      ]
     },
     "execution_count": 9,
     "metadata": {},
     "output_type": "execute_result"
    }
   ],
   "source": [
    "a = np.arange(10)\n",
    "s = slice(2 ,7 ,2) # 从索引 2 开始到索引 7 结束，间隔为 2\n",
    "a[s]"
   ]
  },
  {
   "cell_type": "markdown",
   "id": "25fa72e3",
   "metadata": {},
   "source": [
    "以上实例中，我们首先通过 arange() 函数创建 ndarray 对象。 然后，分别设置起始，终止和步长的参数为 2，7 和 2。\n",
    "\n",
    "我们也可以通过冒号分隔切片参数 **start:stop:step** 来进行切片操作："
   ]
  },
  {
   "cell_type": "markdown",
   "id": "06215dee",
   "metadata": {},
   "source": [
    "#### 实例"
   ]
  },
  {
   "cell_type": "code",
   "execution_count": 11,
   "id": "afa1c075",
   "metadata": {},
   "outputs": [
    {
     "data": {
      "text/plain": [
       "array([2, 4, 6])"
      ]
     },
     "execution_count": 11,
     "metadata": {},
     "output_type": "execute_result"
    }
   ],
   "source": [
    "a = np.arange(10)\n",
    "b = a[2: 7: 2] #从索引 2 开始到索引 7 结束，间隔为 2\n",
    "b"
   ]
  },
  {
   "cell_type": "markdown",
   "id": "915caac7",
   "metadata": {},
   "source": [
    "冒号 `:` 的解释：如果只放置一个参数，如 `[2]`，将返回与该索引相对应的单个元素。如果为 `[2:]`，表示从该索引开始以后的所有项都将被提取。如果使用了两个参数，如 `[2:7]`，那么则提取两个索引 (**不包括停止索引**) 之间的项。"
   ]
  },
  {
   "cell_type": "markdown",
   "id": "2ff6a68e",
   "metadata": {},
   "source": [
    "#### 实例"
   ]
  },
  {
   "cell_type": "code",
   "execution_count": 12,
   "id": "c792e5e5",
   "metadata": {},
   "outputs": [
    {
     "data": {
      "text/plain": [
       "5"
      ]
     },
     "execution_count": 12,
     "metadata": {},
     "output_type": "execute_result"
    }
   ],
   "source": [
    "a = np.arange(10) # [0, 1, 2, 3, 4, 5, 6, 7, 8, 9]\n",
    "b = a[5]\n",
    "b"
   ]
  },
  {
   "cell_type": "markdown",
   "id": "0c7ba46f",
   "metadata": {},
   "source": [
    "#### 实例"
   ]
  },
  {
   "cell_type": "code",
   "execution_count": 13,
   "id": "51e15d87",
   "metadata": {},
   "outputs": [
    {
     "data": {
      "text/plain": [
       "array([2, 3, 4])"
      ]
     },
     "execution_count": 13,
     "metadata": {},
     "output_type": "execute_result"
    }
   ],
   "source": [
    "a = np.arange(10) # [0, 1, 2, 3, 4, 5, 6, 7, 8, 9]\n",
    "a[2:5]"
   ]
  },
  {
   "cell_type": "markdown",
   "id": "83372254",
   "metadata": {},
   "source": [
    "#### 实例"
   ]
  },
  {
   "cell_type": "code",
   "execution_count": 15,
   "id": "7c04a7b7",
   "metadata": {},
   "outputs": [
    {
     "data": {
      "text/plain": [
       "array([2, 3, 4, 5, 6, 7, 8, 9])"
      ]
     },
     "execution_count": 15,
     "metadata": {},
     "output_type": "execute_result"
    }
   ],
   "source": [
    "a = np.arange(10) # [0, 1, 2, 3, 4, 5, 6, 7, 8, 9]\n",
    "a[2:]"
   ]
  },
  {
   "cell_type": "markdown",
   "id": "27048282",
   "metadata": {},
   "source": [
    "多维数组同样适用上述索引提取方法："
   ]
  },
  {
   "cell_type": "markdown",
   "id": "fae8839b",
   "metadata": {},
   "source": [
    "#### 实例"
   ]
  },
  {
   "cell_type": "code",
   "execution_count": 16,
   "id": "64f23d01",
   "metadata": {},
   "outputs": [
    {
     "data": {
      "text/plain": [
       "array([[1, 2, 3],\n",
       "       [4, 5, 6],\n",
       "       [7, 8, 9]])"
      ]
     },
     "execution_count": 16,
     "metadata": {},
     "output_type": "execute_result"
    }
   ],
   "source": [
    "a = np.array([\n",
    "    [1, 2, 3],\n",
    "    [4, 5, 6],\n",
    "    [7, 8, 9]\n",
    "])\n",
    "a"
   ]
  },
  {
   "cell_type": "code",
   "execution_count": 17,
   "id": "b1b09545",
   "metadata": {},
   "outputs": [
    {
     "name": "stdout",
     "output_type": "stream",
     "text": [
      "从数组索引 a[1:] 处开始切割\n"
     ]
    },
    {
     "data": {
      "text/plain": [
       "array([[4, 5, 6],\n",
       "       [7, 8, 9]])"
      ]
     },
     "execution_count": 17,
     "metadata": {},
     "output_type": "execute_result"
    }
   ],
   "source": [
    "# 从某个索引处开始切割\n",
    "print('从数组索引 a[1:] 处开始切割')\n",
    "a[1:] # (1, 最后]"
   ]
  },
  {
   "cell_type": "code",
   "execution_count": 47,
   "id": "81f6e520",
   "metadata": {},
   "outputs": [
    {
     "name": "stdout",
     "output_type": "stream",
     "text": [
      "从数组索引 a[:1] 处开始切割\n"
     ]
    },
    {
     "data": {
      "text/plain": [
       "array([[1, 2, 3]])"
      ]
     },
     "execution_count": 47,
     "metadata": {},
     "output_type": "execute_result"
    }
   ],
   "source": [
    "print('从数组索引 a[:1] 处开始切割')\n",
    "a[:1]"
   ]
  },
  {
   "cell_type": "markdown",
   "id": "13780869",
   "metadata": {},
   "source": [
    "切片还可以包括省略号 `…`，来使选择元组的长度与数组的维度相同。 \n",
    "\n",
    "如果在行位置使用省略号，它将返回包含行中元素的 ndarray。"
   ]
  },
  {
   "cell_type": "code",
   "execution_count": 37,
   "id": "47cab159",
   "metadata": {},
   "outputs": [
    {
     "name": "stdout",
     "output_type": "stream",
     "text": [
      "第 2 列元素 [2 5 8]\n",
      "第 2 行元素 [4 5 6]\n",
      "第 2 列及剩下的所有元素\n",
      " [[2 3]\n",
      " [5 6]\n",
      " [8 9]]\n"
     ]
    }
   ],
   "source": [
    "a = np.array([\n",
    "    [1, 2, 3],\n",
    "    [4, 5, 6],\n",
    "    [7, 8, 9]\n",
    "])\n",
    "print('第 2 列元素', a[..., 1]) # 第 2 列元素\n",
    "print('第 2 行元素', a[1, ...]) # 第 2 行元素\n",
    "print('第 2 列及剩下的所有元素\\n', a[..., 1:]) # 第 2 列及剩下的所有元素\n"
   ]
  }
 ],
 "metadata": {
  "kernelspec": {
   "display_name": "Python 3 (ipykernel)",
   "language": "python",
   "name": "python3"
  },
  "language_info": {
   "codemirror_mode": {
    "name": "ipython",
    "version": 3
   },
   "file_extension": ".py",
   "mimetype": "text/x-python",
   "name": "python",
   "nbconvert_exporter": "python",
   "pygments_lexer": "ipython3",
   "version": "3.9.12"
  }
 },
 "nbformat": 4,
 "nbformat_minor": 5
}
