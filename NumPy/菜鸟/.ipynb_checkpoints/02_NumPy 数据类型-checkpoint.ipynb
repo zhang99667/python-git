{
 "cells": [
  {
   "cell_type": "markdown",
   "id": "6b36fabb",
   "metadata": {},
   "source": [
    "# NumPy 数据类型\n",
    "\n",
    "NumPy 支持的数据类型比 Python 内置的类型要多很多，基本上可以和 C 语言的数据类型对应上，其中部分类型对应为 Python 内置的类型。下表列举了常用 NumPy 基本类型。\n",
    "\n",
    "| 名称         | 描述                                                         |\n",
    "| :----------- | :----------------------------------------------------------- |\n",
    "| `bool_` | 布尔型数据类型（`True` 或者 `False`）                        |\n",
    "| `int_` | 默认的整数类型（类似于 C 语言中的 `long`，`int32` 或 `int64`） |\n",
    "| `intc` | 与 C 的 `int` 类型一样，一般是 `int32` 或 `int64`            |\n",
    "| `intp` | 用于索引的整数类型（类似于 C 的 `ssize_t`，一般情况下仍然是 `int32` 或 `int64`） |\n",
    "| `int8` | 字节（-128 to 127）                                          |\n",
    "| `int16` | 整数（-32768 to 32767）                                      |\n",
    "| `int32` | 整数（-2147483648 to 2147483647）                            |\n",
    "| `int64` | 整数（-9223372036854775808 to 9223372036854775807）          |\n",
    "| `uint8` | 无符号整数（0 to 255）                                       |\n",
    "| `uint16` | 无符号整数（0 to 65535）                                     |\n",
    "| `uint32` | 无符号整数（0 to 4294967295）                                |\n",
    "| `uint64` | 无符号整数（0 to 18446744073709551615）                      |\n",
    "| `float_` | `float64` 类型的简写                                         |\n",
    "| `float16` | 半精度浮点数，包括：1 个符号位，5 个指数位，10 个尾数位      |\n",
    "| `float32` | 单精度浮点数，包括：1 个符号位，8 个指数位，23 个尾数位      |\n",
    "| `float64` | 双精度浮点数，包括：1 个符号位，11 个指数位，52 个尾数位     |\n",
    "| `complex_` |  `complex128` 类型的简写，即 128 位复数                       |\n",
    "| `complex64` | 复数，表示双 32 位浮点数（实数部分和虚数部分）               |\n",
    "| `complex128` | 复数，表示双 64 位浮点数（实数部分和虚数部分）               |\n",
    "\n",
    "NumPy 的数值类型实际上是 `dtype` 对象的实例，并对应唯一的字符，包括 `np.bool_`，`np.int32`，`np.float32`，等等。\n",
    "\n",
    "## 数据类型对象 ( `dtype` )\n",
    "\n",
    "数据类型对象（`numpy.dtype` 类的实例）用来描述与数组对应的内存区域是如何使用，它描述了数据的以下几个方面：：\n",
    "\n",
    "- 数据的 **类型**（整数，浮点数或者 Python 对象）\n",
    "- 数据的 **大小**（例如， 整数使用多少个字节存储）\n",
    "- 数据的 **字节顺序**（小端法或大端法）\n",
    "- 在结构化类型的情况下，字段的名称、每个字段的数据类型和每个字段所取的内存块的部分\n",
    "- 如果数据类型是子数组，那么它的形状和数据类型是什么。\n",
    "\n",
    "字节顺序是通过 **对数据类型预先设定** `<` 或 `>` 来决定的。 `<` 意味着小端法(最小值存储在最小的地址，即低位组放在最前面)。`>` 意味着大端法 (最重要的字节存储在最小的地址，即高位组放在最前面)。\n",
    "\n",
    "`dtype` 对象是使用以下语法构造的：\n",
    "\n",
    "```\n",
    "numpy.dtype(object, align, copy)\n",
    "```\n",
    "\n",
    "- `object` - 要转换为的数据类型对象\n",
    "- `align` - 如果为 true，填充字段使其类似 C 的结构体。\n",
    "- `copy` - 复制 `dtype` 对象 ，如果为 false，则是对内置数据类型对象的引用\n",
    "\n",
    "### 实例\n",
    "\n",
    "接下来我们可以通过实例来理解。"
   ]
  },
  {
   "cell_type": "markdown",
   "id": "7800e0eb",
   "metadata": {},
   "source": [
    "**实例 1**"
   ]
  },
  {
   "cell_type": "code",
   "execution_count": 1,
   "id": "1311d3e5",
   "metadata": {},
   "outputs": [
    {
     "data": {
      "text/plain": [
       "dtype('int32')"
      ]
     },
     "execution_count": 1,
     "metadata": {},
     "output_type": "execute_result"
    }
   ],
   "source": [
    "import numpy as np\n",
    "# 使用标量类型\n",
    "dt = np.dtype(np.int32)\n",
    "dt"
   ]
  },
  {
   "cell_type": "markdown",
   "id": "71784654",
   "metadata": {},
   "source": [
    "**实例 2**"
   ]
  },
  {
   "cell_type": "code",
   "execution_count": 2,
   "id": "10de3fc2",
   "metadata": {},
   "outputs": [
    {
     "data": {
      "text/plain": [
       "dtype('int32')"
      ]
     },
     "execution_count": 2,
     "metadata": {},
     "output_type": "execute_result"
    }
   ],
   "source": [
    "# int8, int16, int32, int64 四种数据类型可以使用字符串 'i1', 'i2', 'i4', 'i8' 代替\n",
    "dt = np.dtype('i4')\n",
    "dt"
   ]
  },
  {
   "cell_type": "markdown",
   "id": "edebe82f",
   "metadata": {},
   "source": [
    "**实例 3**\n",
    "\n",
    "下面实例展示 **结构化数据类型** 的使用，**类型字段** 和 **对应的实际类型** 将被创建。"
   ]
  },
  {
   "cell_type": "code",
   "execution_count": 4,
   "id": "0e80cb4f",
   "metadata": {},
   "outputs": [
    {
     "data": {
      "text/plain": [
       "dtype([('age', 'i1')])"
      ]
     },
     "execution_count": 4,
     "metadata": {},
     "output_type": "execute_result"
    }
   ],
   "source": [
    "dt = np.dtype([('age',np.int8)])\n",
    "dt"
   ]
  },
  {
   "cell_type": "code",
   "execution_count": 9,
   "id": "f201b876",
   "metadata": {},
   "outputs": [
    {
     "data": {
      "text/plain": [
       "array([10, 20, 30], dtype=int8)"
      ]
     },
     "execution_count": 9,
     "metadata": {},
     "output_type": "execute_result"
    }
   ],
   "source": [
    "# 类型字段名可以用于存取实际的 age 列\n",
    "dt = np.dtype([('age',np.int8)])\n",
    "a = np.array([(10, ), (20, ), (30, )], dtype = dt)\n",
    "a['age']"
   ]
  },
  {
   "cell_type": "markdown",
   "id": "8519b3d7",
   "metadata": {},
   "source": [
    "**实例 7**\n",
    "\n",
    "下面的示例定义一个 **结构化数据类型** `student`，包含 **字符串字段** `name`，**整数字段** `age`，及 **浮点字段** `marks`，并将这个 `dtype` 应用到 `ndarray` 对象。"
   ]
  },
  {
   "cell_type": "code",
   "execution_count": 10,
   "id": "705a7014",
   "metadata": {},
   "outputs": [
    {
     "data": {
      "text/plain": [
       "dtype([('name', 'S20'), ('age', 'i1'), ('marks', '<f4')])"
      ]
     },
     "execution_count": 10,
     "metadata": {},
     "output_type": "execute_result"
    }
   ],
   "source": [
    "student = np.dtype([('name', 'S20'),('age', 'i1'), ('marks', 'f4')])\n",
    "student"
   ]
  },
  {
   "cell_type": "markdown",
   "id": "1477e455",
   "metadata": {},
   "source": [
    "**实例 8**"
   ]
  },
  {
   "cell_type": "code",
   "execution_count": 14,
   "id": "d597a0da",
   "metadata": {},
   "outputs": [
    {
     "name": "stdout",
     "output_type": "stream",
     "text": [
      "[(b'abc', 21, 50.) (b'xyz', 18, 75.)]\n"
     ]
    }
   ],
   "source": [
    "student = np.dtype([('name', 'S20'),('age', 'i1'), ('marks', 'f4')])\n",
    "a = np.array([('abc', 21, 50),('xyz', 18, 75)], dtype = student)\n",
    "print(a)"
   ]
  },
  {
   "cell_type": "markdown",
   "id": "eec850f8",
   "metadata": {},
   "source": [
    "每个内建类型都有一个 **唯一定义** 它的 **字符代码**，如下：\n",
    "\n",
    "| 字符 | 对应类型              |\n",
    "| :--- | --------------------: |\n",
    "| b    | 布尔型                |\n",
    "| i    | (有符号) 整型         |\n",
    "| u    | 无符号整型 integer    |\n",
    "| f    | 浮点型                |\n",
    "| c    | 复数浮点型            |\n",
    "| m    | timedelta （时间间隔） |\n",
    "| M    | datetime （日期时间）  |\n",
    "| O    | (Python) 对象         |\n",
    "| S, a | (byte-)字符串         |\n",
    "| U    | Unicode               |\n",
    "| V    | 原始数据 (void)       |"
   ]
  }
 ],
 "metadata": {
  "kernelspec": {
   "display_name": "Python 3 (ipykernel)",
   "language": "python",
   "name": "python3"
  },
  "language_info": {
   "codemirror_mode": {
    "name": "ipython",
    "version": 3
   },
   "file_extension": ".py",
   "mimetype": "text/x-python",
   "name": "python",
   "nbconvert_exporter": "python",
   "pygments_lexer": "ipython3",
   "version": "3.9.12"
  }
 },
 "nbformat": 4,
 "nbformat_minor": 5
}
