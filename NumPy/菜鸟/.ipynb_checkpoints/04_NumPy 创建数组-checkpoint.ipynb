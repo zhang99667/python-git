{
 "cells": [
  {
   "cell_type": "markdown",
   "id": "5fad797f",
   "metadata": {},
   "source": [
    "# NumPy 创建数组\n",
    "\n",
    "ndarray 数组除了可以使用底层 ndarray 构造器来创建外，也可以通过以下几种方式来创建。\n",
    "\n",
    "### numpy.empty\n",
    "\n",
    "numpy.empty 方法用来创建一个指定形状（shape）、数据类型（dtype）且未初始化的数组：\n",
    "\n",
    "```\n",
    "numpy.empty(shape, dtype = float, order = 'C')\n",
    "```\n",
    "\n",
    "参数说明：\n",
    "\n",
    "| 参数  | 描述                                                         |\n",
    "| :---- | :----------------------------------------------------------- |\n",
    "| shape | 数组形状                                                     |\n",
    "| dtype | 数据类型，可选                                               |\n",
    "| order | 有 \"C\" 和 \"F\" 两个选项，分别代表，**行优先** **和** 列优先，在计算机内存中的存储元素的顺序。 |\n",
    "\n",
    "下面是一个创建空数组的实例："
   ]
  },
  {
   "cell_type": "code",
   "execution_count": 2,
   "id": "e56531d0",
   "metadata": {},
   "outputs": [],
   "source": [
    "import numpy as np"
   ]
  },
  {
   "cell_type": "markdown",
   "id": "a5a85a3f",
   "metadata": {},
   "source": [
    "#### 实例"
   ]
  },
  {
   "cell_type": "code",
   "execution_count": 3,
   "id": "9ac19507",
   "metadata": {},
   "outputs": [
    {
     "data": {
      "text/plain": [
       "array([[94098999059968,              0],\n",
       "       [             0,              0],\n",
       "       [             0,              0]])"
      ]
     },
     "execution_count": 3,
     "metadata": {},
     "output_type": "execute_result"
    }
   ],
   "source": [
    "x = np.empty([3, 2], dtype = int)\n",
    "x"
   ]
  },
  {
   "cell_type": "markdown",
   "id": "c721624b",
   "metadata": {},
   "source": [
    "> **注意**：数组元素为随机值，因为它们 **未初始化**。"
   ]
  },
  {
   "cell_type": "markdown",
   "id": "22283e93",
   "metadata": {},
   "source": [
    "### numpy.zeros\n",
    "\n",
    "创建指定大小的数组，数组元素以 0 来填充：\n",
    "\n",
    "```\n",
    "numpy.zeros(shape, dtype = float, order = 'C')\n",
    "```\n",
    "\n",
    "参数说明：\n",
    "\n",
    "| 参数  | 描述                                                |\n",
    "| :---- | :-------------------------------------------------- |\n",
    "| shape | 数组形状                                            |\n",
    "| dtype | 数据类型，可选                                      |\n",
    "| order | 'C' 用于 C 的行数组，或者 'F' 用于 FORTRAN 的列数组 |"
   ]
  },
  {
   "cell_type": "markdown",
   "id": "4cccb82b",
   "metadata": {},
   "source": [
    "#### 实例"
   ]
  },
  {
   "cell_type": "code",
   "execution_count": 10,
   "id": "fbe1bd3c",
   "metadata": {},
   "outputs": [
    {
     "name": "stdout",
     "output_type": "stream",
     "text": [
      "x -> [0. 0. 0. 0. 0.]\n",
      "y -> [0 0 0 0 0]\n",
      "z ->\n",
      " [[(0, 0) (0, 0)]\n",
      " [(0, 0) (0, 0)]]\n"
     ]
    }
   ],
   "source": [
    "# 默认为浮点数\n",
    "x = np.zeros(5)\n",
    "print('x ->', x)\n",
    "\n",
    "# 设置类型为整数\n",
    "y = np.zeros((5, ), dtype = int)\n",
    "print('y ->', y)\n",
    "\n",
    "# 自定义类型\n",
    "z = np.zeros((2, 2), dtype = [('x', 'i4'), ('y', 'i4')])\n",
    "print('z ->\\n', z)"
   ]
  },
  {
   "cell_type": "markdown",
   "id": "94187ab0",
   "metadata": {},
   "source": [
    "### numpy.ones\n",
    "\n",
    "创建指定形状的数组，数组元素以 1 来填充：\n",
    "\n",
    "```\n",
    "numpy.ones(shape, dtype = None, order = 'C')\n",
    "```\n",
    "\n",
    "参数说明：\n",
    "\n",
    "| 参数  | 描述                                                |\n",
    "| :---- | :-------------------------------------------------- |\n",
    "| shape | 数组形状                                            |\n",
    "| dtype | 数据类型，可选                                      |\n",
    "| order | 'C' 用于 C 的行数组，或者 'F' 用于 FORTRAN 的列数组 |"
   ]
  },
  {
   "cell_type": "markdown",
   "id": "02e9c958",
   "metadata": {},
   "source": [
    "#### 实例"
   ]
  },
  {
   "cell_type": "code",
   "execution_count": 11,
   "id": "10c17e7e",
   "metadata": {},
   "outputs": [
    {
     "name": "stdout",
     "output_type": "stream",
     "text": [
      "[1. 1. 1. 1. 1.]\n",
      "[[1 1]\n",
      " [1 1]]\n"
     ]
    }
   ],
   "source": [
    "# 默认为浮点数\n",
    "x = np.ones(5)\n",
    "print(x)\n",
    "\n",
    "# 自定义类型\n",
    "x = np.ones([2, 2], dtype = int)\n",
    "print(x)"
   ]
  },
  {
   "cell_type": "code",
   "execution_count": null,
   "id": "b8e07ce8",
   "metadata": {},
   "outputs": [],
   "source": []
  }
 ],
 "metadata": {
  "kernelspec": {
   "display_name": "Python 3 (ipykernel)",
   "language": "python",
   "name": "python3"
  },
  "language_info": {
   "codemirror_mode": {
    "name": "ipython",
    "version": 3
   },
   "file_extension": ".py",
   "mimetype": "text/x-python",
   "name": "python",
   "nbconvert_exporter": "python",
   "pygments_lexer": "ipython3",
   "version": "3.9.12"
  }
 },
 "nbformat": 4,
 "nbformat_minor": 5
}
