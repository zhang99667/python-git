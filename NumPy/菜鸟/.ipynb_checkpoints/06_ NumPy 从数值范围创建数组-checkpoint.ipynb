{
 "cells": [
  {
   "cell_type": "markdown",
   "id": "8db6be33",
   "metadata": {},
   "source": [
    "# NumPy 从数值范围创建数组\n",
    "\n",
    "这一章节我们将学习如何从 **数值范围** 创建数组。\n",
    "\n",
    "### numpy.arange\n",
    "\n",
    "numpy 包中的使用 arange 函数创建数值范围并返回 ndarray 对象，函数格式如下：\n",
    "\n",
    "```\n",
    "numpy.arange(start, stop, step, dtype)\n",
    "```\n",
    "\n",
    "根据 start 与 stop 指定的范围以及 step 设定的步长，生成一个 ndarray。\n",
    "\n",
    "参数说明：\n",
    "\n",
    "| 参数    | 描述                                                         |\n",
    "| :------ | :----------------------------------------------------------- |\n",
    "| `start` | 起始值，默认为`0`                                            |\n",
    "| `stop`  | 终止值（不包含）                                             |\n",
    "| `step`  | 步长，默认为`1`                                              |\n",
    "| `dtype` | 返回`ndarray`的数据类型，如果没有提供，则会使用输入数据的类型。 |\n",
    "\n",
    "### 实例\n",
    "\n",
    "生成 0 到 5 的数组:"
   ]
  },
  {
   "cell_type": "code",
   "execution_count": 1,
   "id": "57639e5e",
   "metadata": {},
   "outputs": [],
   "source": [
    "import numpy as np"
   ]
  },
  {
   "cell_type": "code",
   "execution_count": 3,
   "id": "22c9702b",
   "metadata": {},
   "outputs": [
    {
     "data": {
      "text/plain": [
       "array([0, 1, 2, 3, 4])"
      ]
     },
     "execution_count": 3,
     "metadata": {},
     "output_type": "execute_result"
    }
   ],
   "source": [
    "x = np.arange(5)\n",
    "x"
   ]
  },
  {
   "cell_type": "markdown",
   "id": "3764b778",
   "metadata": {},
   "source": [
    "设置返回类型位 float"
   ]
  },
  {
   "cell_type": "code",
   "execution_count": 5,
   "id": "013bef66",
   "metadata": {},
   "outputs": [
    {
     "data": {
      "text/plain": [
       "array([0., 1., 2., 3., 4.])"
      ]
     },
     "execution_count": 5,
     "metadata": {},
     "output_type": "execute_result"
    }
   ],
   "source": [
    "# 设置了 dtype 参数\n",
    "x = np.arange(5, dtype=float)\n",
    "x"
   ]
  },
  {
   "cell_type": "markdown",
   "id": "649c06a2",
   "metadata": {},
   "source": [
    "设置了起始值、终止值及步长："
   ]
  },
  {
   "cell_type": "code",
   "execution_count": 7,
   "id": "89d660f4",
   "metadata": {},
   "outputs": [
    {
     "data": {
      "text/plain": [
       "array([10, 12, 14, 16, 18])"
      ]
     },
     "execution_count": 7,
     "metadata": {},
     "output_type": "execute_result"
    }
   ],
   "source": [
    "x = np.arange(10, 20, 2)\n",
    "x"
   ]
  },
  {
   "cell_type": "markdown",
   "id": "b7bc6619",
   "metadata": {},
   "source": [
    "### numpy.linspace\n",
    "\n",
    "numpy.linspace 函数用于 **创建** 一个 **一维数组**，数组是一个 **等差数列** 构成的，格式如下：\n",
    "\n",
    "```\n",
    "np.linspace(start, stop, num=50, endpoint=True, retstep=False, dtype=None)\n",
    "```\n",
    "\n",
    "参数说明：\n",
    "\n",
    "| 参数       | 描述                                                         |\n",
    "| :--------- | :----------------------------------------------------------- |\n",
    "| `start`    | 序列的起始值                                                 |\n",
    "| `stop`     | 序列的终止值，如果`endpoint`为`true`，该值包含于数列中       |\n",
    "| `num`      | 要生成的等步长的样本数量，默认为`50`                         |\n",
    "| `endpoint` | 该值为 `true` 时，数列中包含`stop`值，反之不包含，默认是True。 |\n",
    "| `retstep`  | 如果为 True 时，生成的数组中会显示间距，反之不显示。         |\n",
    "| `dtype`    | `ndarray` 的数据类型                                         |\n",
    "\n",
    "以下实例用到三个参数，设置起始点为 1 ，终止点为 10，数列个数为 10。"
   ]
  },
  {
   "cell_type": "code",
   "execution_count": 8,
   "id": "d4e459a9",
   "metadata": {},
   "outputs": [
    {
     "data": {
      "text/plain": [
       "array([ 1.,  2.,  3.,  4.,  5.,  6.,  7.,  8.,  9., 10.])"
      ]
     },
     "execution_count": 8,
     "metadata": {},
     "output_type": "execute_result"
    }
   ],
   "source": [
    "a = np.linspace(1, 10, 10)\n",
    "a"
   ]
  },
  {
   "cell_type": "markdown",
   "id": "88b0379b",
   "metadata": {},
   "source": [
    "设置元素全部是 1 的等差数列："
   ]
  },
  {
   "cell_type": "code",
   "execution_count": 10,
   "id": "1f9eb1bc",
   "metadata": {},
   "outputs": [
    {
     "data": {
      "text/plain": [
       "array([1., 1., 1., 1., 1., 1., 1., 1., 1., 1.])"
      ]
     },
     "execution_count": 10,
     "metadata": {},
     "output_type": "execute_result"
    }
   ],
   "source": [
    "a = np.linspace(1, 1, 10)\n",
    "a"
   ]
  },
  {
   "cell_type": "markdown",
   "id": "53a29e0c",
   "metadata": {},
   "source": [
    "将 endpoint 设为 false，不包含终止值："
   ]
  },
  {
   "cell_type": "code",
   "execution_count": 13,
   "id": "f162dc1c",
   "metadata": {},
   "outputs": [
    {
     "data": {
      "text/plain": [
       "array([10., 12., 14., 16., 18.])"
      ]
     },
     "execution_count": 13,
     "metadata": {},
     "output_type": "execute_result"
    }
   ],
   "source": [
    "a = np.linspace(10, 20, 5, endpoint=False)\n",
    "a"
   ]
  },
  {
   "cell_type": "markdown",
   "id": "876b2e0f",
   "metadata": {},
   "source": [
    "如果将 `endpoint` 设为 `true`，则会包含 20。"
   ]
  },
  {
   "cell_type": "code",
   "execution_count": 15,
   "id": "735cfae9",
   "metadata": {},
   "outputs": [
    {
     "data": {
      "text/plain": [
       "array([ 1.,  2.,  3.,  4.,  5.,  6.,  7.,  8.,  9., 10.])"
      ]
     },
     "execution_count": 15,
     "metadata": {},
     "output_type": "execute_result"
    }
   ],
   "source": [
    "a = np.linspace(1, 10, 10,endpoint=True)\n",
    "a"
   ]
  },
  {
   "cell_type": "markdown",
   "id": "3f1d2ad6",
   "metadata": {},
   "source": [
    "以下实例设置间距"
   ]
  },
  {
   "cell_type": "code",
   "execution_count": 16,
   "id": "300ce38f",
   "metadata": {},
   "outputs": [
    {
     "data": {
      "text/plain": [
       "(array([ 1.,  2.,  3.,  4.,  5.,  6.,  7.,  8.,  9., 10.]), 1.0)"
      ]
     },
     "execution_count": 16,
     "metadata": {},
     "output_type": "execute_result"
    }
   ],
   "source": [
    "a = np.linspace(1, 10, 10, retstep=True)\n",
    "a"
   ]
  },
  {
   "cell_type": "markdown",
   "id": "6d2de948",
   "metadata": {},
   "source": [
    "扩展例子"
   ]
  },
  {
   "cell_type": "code",
   "execution_count": 19,
   "id": "c95704ab",
   "metadata": {},
   "outputs": [
    {
     "data": {
      "text/plain": [
       "array([[ 1.,  2.],\n",
       "       [ 3.,  4.],\n",
       "       [ 5.,  6.],\n",
       "       [ 7.,  8.],\n",
       "       [ 9., 10.]])"
      ]
     },
     "execution_count": 19,
     "metadata": {},
     "output_type": "execute_result"
    }
   ],
   "source": [
    "a = np.linspace(1, 10, 10).reshape(5, 2)\n",
    "a"
   ]
  },
  {
   "cell_type": "markdown",
   "id": "bbb05dbf",
   "metadata": {},
   "source": [
    "### numpy.logspace\n",
    "\n",
    "numpy.logspace 函数用于 **创建** 一个 **等比数列**。格式如下：\n",
    "\n",
    "```\n",
    "np.logspace(start, stop, num=50, endpoint=True, base=10.0, dtype=None)\n",
    "```\n",
    "\n",
    "base 参数意思是取对数的时候 log 的下标。\n",
    "\n",
    "| 参数       | 描述                                                         |\n",
    "| :--------- | :----------------------------------------------------------- |\n",
    "| `start`    | 序列的起始值为：base ** start                                |\n",
    "| `stop`     | 序列的终止值为：base ** stop。如果`endpoint`为`true`，该值包含于数列中 |\n",
    "| `num`      | 要生成的等步长的样本数量，默认为`50`                         |\n",
    "| `endpoint` | 该值为 `true` 时，数列中中包含`stop`值，反之不包含，默认是True。 |\n",
    "| `base`     | 对数 log 的底数。默认的底数为 10            |\n",
    "| `dtype`    | `ndarray` 的数据类型                                         |"
   ]
  },
  {
   "cell_type": "markdown",
   "id": "dbf2896d",
   "metadata": {},
   "source": [
    "#### 实例"
   ]
  },
  {
   "cell_type": "code",
   "execution_count": 21,
   "id": "db2357a2",
   "metadata": {},
   "outputs": [
    {
     "data": {
      "text/plain": [
       "array([ 10.        ,  12.91549665,  16.68100537,  21.5443469 ,\n",
       "        27.82559402,  35.93813664,  46.41588834,  59.94842503,\n",
       "        77.42636827, 100.        ])"
      ]
     },
     "execution_count": 21,
     "metadata": {},
     "output_type": "execute_result"
    }
   ],
   "source": [
    "# 默认底数为 10\n",
    "a = np.logspace(1.0, 2.0, num =10) # 10**1.1, 10**1.2..., 10**2\n",
    "a"
   ]
  },
  {
   "cell_type": "markdown",
   "id": "1179f618",
   "metadata": {},
   "source": [
    "#### 实例\n",
    "\n",
    "将对数的底数设置为 2："
   ]
  },
  {
   "cell_type": "code",
   "execution_count": 23,
   "id": "2a0a096f",
   "metadata": {},
   "outputs": [
    {
     "data": {
      "text/plain": [
       "array([  1.,   2.,   4.,   8.,  16.,  32.,  64., 128., 256., 512.])"
      ]
     },
     "execution_count": 23,
     "metadata": {},
     "output_type": "execute_result"
    }
   ],
   "source": [
    "a = np.logspace(0, 9, 10, base=2) # 2**1, 2**2..., 2**10\n",
    "a"
   ]
  }
 ],
 "metadata": {
  "kernelspec": {
   "display_name": "Python 3 (ipykernel)",
   "language": "python",
   "name": "python3"
  },
  "language_info": {
   "codemirror_mode": {
    "name": "ipython",
    "version": 3
   },
   "file_extension": ".py",
   "mimetype": "text/x-python",
   "name": "python",
   "nbconvert_exporter": "python",
   "pygments_lexer": "ipython3",
   "version": "3.9.12"
  }
 },
 "nbformat": 4,
 "nbformat_minor": 5
}
