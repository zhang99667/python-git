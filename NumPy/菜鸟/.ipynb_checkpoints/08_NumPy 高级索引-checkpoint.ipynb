{
 "cells": [
  {
   "cell_type": "markdown",
   "id": "fc42c078",
   "metadata": {},
   "source": [
    "# NumPy 高级索引\n",
    "\n",
    "NumPy 比一般的 Python 序列提供更多的索引方式。除了之前看到的用 **整数** 和 **切片** 的索引外，数组可以由 **整数数组** 索引、**布尔索引** 及 **花式索引**。\n",
    "\n",
    "### 整数数组索引\n",
    "\n",
    "以下实例获取数组中 `(0,0)`，`(1,1)` 和 `(2,0)` 位置处的元素。"
   ]
  },
  {
   "cell_type": "markdown",
   "id": "e5e8fd10",
   "metadata": {},
   "source": [
    "#### 实例"
   ]
  },
  {
   "cell_type": "code",
   "execution_count": 1,
   "id": "017ff114",
   "metadata": {},
   "outputs": [],
   "source": [
    "import numpy as np"
   ]
  },
  {
   "cell_type": "code",
   "execution_count": 4,
   "id": "e776896e",
   "metadata": {},
   "outputs": [
    {
     "data": {
      "text/plain": [
       "array([1, 4, 5])"
      ]
     },
     "execution_count": 4,
     "metadata": {},
     "output_type": "execute_result"
    }
   ],
   "source": [
    "x = np.array([\n",
    "    [1, 2],\n",
    "    [3, 4],\n",
    "    [5, 6]\n",
    "])\n",
    "y = x[[0, 1, 2], [0, 1, 0]]\n",
    "y"
   ]
  },
  {
   "cell_type": "markdown",
   "id": "4fb22548",
   "metadata": {},
   "source": [
    "以下实例获取了 4×3 数组中的四个角的元素。 行索引是 `[0,0]` 和 `[3,3]`，而列索引是 `[0,2]` 和 `[0,2]`。"
   ]
  },
  {
   "cell_type": "markdown",
   "id": "07432b57",
   "metadata": {},
   "source": [
    "#### 实例"
   ]
  },
  {
   "cell_type": "code",
   "execution_count": 5,
   "id": "e82574b5",
   "metadata": {},
   "outputs": [
    {
     "data": {
      "text/plain": [
       "array([[ 0,  1,  2],\n",
       "       [ 3,  4,  5],\n",
       "       [ 6,  7,  8],\n",
       "       [ 9, 10, 11]])"
      ]
     },
     "execution_count": 5,
     "metadata": {},
     "output_type": "execute_result"
    }
   ],
   "source": [
    "# 定义一个三行四列数组\n",
    "x = np.array([\n",
    "    [0, 1, 2],\n",
    "    [3, 4, 5],\n",
    "    [6, 7, 8],\n",
    "    [9, 10, 11]\n",
    "])\n",
    "x"
   ]
  },
  {
   "cell_type": "code",
   "execution_count": 30,
   "id": "fe112c03",
   "metadata": {},
   "outputs": [
    {
     "name": "stdout",
     "output_type": "stream",
     "text": [
      "四个角的元素分别为\n"
     ]
    },
    {
     "data": {
      "text/plain": [
       "array([[ 0,  2,  9, 11]])"
      ]
     },
     "execution_count": 30,
     "metadata": {},
     "output_type": "execute_result"
    }
   ],
   "source": [
    "rows = np.array([[0, 0, 3, 3]]) # 行信息\n",
    "cols = np.array([[0, 2, 0, 2]]) # 列信息\n",
    "y = x[rows, cols] # 组合起来变成了 [0, 0], [0, 2], [3, 0], [3, 2]\n",
    "print('四个角的元素分别为')\n",
    "y"
   ]
  },
  {
   "cell_type": "markdown",
   "id": "a4024322",
   "metadata": {},
   "source": [
    "返回的结果是包含每个角元素的 ndarray 对象。\n",
    "\n",
    "可以借助切片 `:` 或 `…` 与 索引数组 组合。如下面例子："
   ]
  },
  {
   "cell_type": "code",
   "execution_count": 33,
   "id": "23e92c58",
   "metadata": {},
   "outputs": [
    {
     "data": {
      "text/plain": [
       "[array([1, 4, 7]), array([2, 5, 8]), array([3, 6, 9])]"
      ]
     },
     "execution_count": 33,
     "metadata": {},
     "output_type": "execute_result"
    }
   ],
   "source": [
    "a = np.array([\n",
    "    [1, 2, 3], \n",
    "    [4, 5, 6],\n",
    "    [7, 8, 9]\n",
    "])\n",
    "rows = [\n",
    "    a[..., 0],\n",
    "    a[..., 1],\n",
    "    a[..., 2]\n",
    "]\n",
    "cols = [\n",
    "    a[],\n",
    "]"
   ]
  },
  {
   "cell_type": "code",
   "execution_count": null,
   "id": "611eed1a",
   "metadata": {},
   "outputs": [],
   "source": []
  }
 ],
 "metadata": {
  "kernelspec": {
   "display_name": "Python 3 (ipykernel)",
   "language": "python",
   "name": "python3"
  },
  "language_info": {
   "codemirror_mode": {
    "name": "ipython",
    "version": 3
   },
   "file_extension": ".py",
   "mimetype": "text/x-python",
   "name": "python",
   "nbconvert_exporter": "python",
   "pygments_lexer": "ipython3",
   "version": "3.9.12"
  }
 },
 "nbformat": 4,
 "nbformat_minor": 5
}
