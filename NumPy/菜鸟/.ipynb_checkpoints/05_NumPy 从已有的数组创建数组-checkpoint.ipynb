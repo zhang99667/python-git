{
 "cells": [
  {
   "cell_type": "markdown",
   "id": "2759fcda",
   "metadata": {},
   "source": [
    "# NumPy 从已有的数组创建数组\n",
    "\n",
    "本章节我们将学习如何从已有的数组创建数组。\n",
    "\n",
    "### numpy.asarray\n",
    "\n",
    "numpy.asarray 类似 numpy.array，但 numpy.asarray 参数只有三个，比 numpy.array 少两个。\n",
    "\n",
    "```\n",
    "numpy.asarray(a, dtype = None, order = None)\n",
    "```\n",
    "\n",
    "参数说明：\n",
    "\n",
    "| 参数  | 描述                                                         |\n",
    "| :---- | :----------------------------------------------------------- |\n",
    "| a     | 任意形式的输入参数，可以是，列表, 列表的元组, 元组, 元组的元组, 元组的列表，多维数组 |\n",
    "| dtype | 数据类型，可选                                               |\n",
    "| order | 可选，有\"C\"和\"F\"两个选项,分别代表，行优先和列优先，在计算机内存中的存储元素的顺序。 |\n",
    "\n",
    "#### 实例\n",
    "\n",
    "将列表转换为 ndarray:"
   ]
  },
  {
   "cell_type": "code",
   "execution_count": 1,
   "id": "07c88ab0",
   "metadata": {},
   "outputs": [],
   "source": [
    "import numpy as np"
   ]
  },
  {
   "cell_type": "code",
   "execution_count": 7,
   "id": "6a5dfa4e",
   "metadata": {},
   "outputs": [
    {
     "data": {
      "text/plain": [
       "array([1, 2, 3])"
      ]
     },
     "execution_count": 7,
     "metadata": {},
     "output_type": "execute_result"
    }
   ],
   "source": [
    "x = [1, 2, 3]\n",
    "a = np.asarray(x)\n",
    "a"
   ]
  },
  {
   "cell_type": "markdown",
   "id": "d35132d0",
   "metadata": {},
   "source": [
    "#### 实例\n",
    "\n",
    "将元组列表转换为 ndarray:"
   ]
  },
  {
   "cell_type": "code",
   "execution_count": 8,
   "id": "ecdd3a75",
   "metadata": {},
   "outputs": [
    {
     "data": {
      "text/plain": [
       "array([1, 2, 3])"
      ]
     },
     "execution_count": 8,
     "metadata": {},
     "output_type": "execute_result"
    }
   ],
   "source": [
    "x = (1, 2, 3)\n",
    "a = np.asarray(x)\n",
    "a"
   ]
  },
  {
   "cell_type": "markdown",
   "id": "ceca6f57",
   "metadata": {},
   "source": [
    "#### 实例\n",
    "\n",
    "将元组列表转换为 ndarray:"
   ]
  },
  {
   "cell_type": "code",
   "execution_count": 11,
   "id": "6a620b74",
   "metadata": {},
   "outputs": [
    {
     "data": {
      "text/plain": [
       "array([(1, 2, 3), (4, 5)], dtype=object)"
      ]
     },
     "execution_count": 11,
     "metadata": {},
     "output_type": "execute_result"
    }
   ],
   "source": [
    "x = [(1, 2, 3), (4, 5)]\n",
    "a = np.asarray(x, dtype = object)\n",
    "a"
   ]
  },
  {
   "cell_type": "markdown",
   "id": "f94c2197",
   "metadata": {},
   "source": [
    "设置了 dtype 参数："
   ]
  },
  {
   "cell_type": "code",
   "execution_count": 12,
   "id": "fa42c0ca",
   "metadata": {},
   "outputs": [
    {
     "data": {
      "text/plain": [
       "array([1., 2., 3.])"
      ]
     },
     "execution_count": 12,
     "metadata": {},
     "output_type": "execute_result"
    }
   ],
   "source": [
    "x = [1, 2, 3]\n",
    "a = np.asarray(x, dtype = float)\n",
    "a"
   ]
  },
  {
   "cell_type": "markdown",
   "id": "041f9aeb",
   "metadata": {},
   "source": [
    "### numpy.frombuffer\n",
    "\n",
    "numpy.frombuffer 用于实现动态数组。\n",
    "\n",
    "numpy.frombuffer 接受 buffer 输入参数，以流的形式读入转化成 ndarray 对象。\n",
    "\n",
    "```\n",
    "numpy.frombuffer(buffer, dtype = float, count = -1, offset = 0)\n",
    "```\n",
    "\n",
    "> **注意：**buffer 是字符串的时候，Python3 默认 str 是 Unicode 类型，所以要转成 bytestring 在原 str 前加上 b。\n",
    "\n",
    "参数说明：\n",
    "\n",
    "| 参数   | 描述                                     |\n",
    "| :----- | :--------------------------------------- |\n",
    "| buffer | 可以是任意对象，会以流的形式读入。       |\n",
    "| dtype  | 返回数组的数据类型，可选                 |\n",
    "| count  | 读取的数据数量。默认为-1，读取所有数据。 |\n",
    "| offset | 读取的起始位置，默认为0。                |"
   ]
  },
  {
   "cell_type": "markdown",
   "id": "04df8c83",
   "metadata": {},
   "source": [
    "#### Python3.x 实例"
   ]
  },
  {
   "cell_type": "code",
   "execution_count": 27,
   "id": "70f3f984",
   "metadata": {},
   "outputs": [
    {
     "data": {
      "text/plain": [
       "array([b'H', b'e', b'l', b'l', b'o', b' ', b'W', b'o', b'r', b'l', b'd'],\n",
       "      dtype='|S1')"
      ]
     },
     "execution_count": 27,
     "metadata": {},
     "output_type": "execute_result"
    }
   ],
   "source": [
    "s = b'Hello World'\n",
    "a = np.frombuffer(s, dtype = 'S1')\n",
    "a"
   ]
  },
  {
   "cell_type": "markdown",
   "id": "db34a1e8",
   "metadata": {},
   "source": [
    "### numpy.fromiter\n",
    "\n",
    "numpy.fromiter 方法从可迭代对象中建立 ndarray 对象，返回一维数组。\n",
    "\n",
    "```\n",
    "numpy.fromiter(iterable, dtype, count=-1)\n",
    "```\n",
    "\n",
    "| 参数     | 描述                                   |\n",
    "| :------- | :------------------------------------- |\n",
    "| iterable | 可迭代对象                             |\n",
    "| dtype    | 返回数组的数据类型                     |\n",
    "| count    | 读取的数据数量，默认为-1，读取所有数据 |"
   ]
  },
  {
   "cell_type": "markdown",
   "id": "f0805400",
   "metadata": {},
   "source": [
    "#### 实例"
   ]
  },
  {
   "cell_type": "code",
   "execution_count": 32,
   "id": "0cfa053c",
   "metadata": {},
   "outputs": [
    {
     "data": {
      "text/plain": [
       "array([0., 1., 2., 3., 4.])"
      ]
     },
     "execution_count": 32,
     "metadata": {},
     "output_type": "execute_result"
    }
   ],
   "source": [
    "# 使用 range 函数创建列表对象\n",
    "list = range(5)\n",
    "it = iter(list)\n",
    "\n",
    "# 使用迭代器创建 ndarray\n",
    "x = np.fromiter(it, dtype = float)\n",
    "x"
   ]
  }
 ],
 "metadata": {
  "kernelspec": {
   "display_name": "Python 3 (ipykernel)",
   "language": "python",
   "name": "python3"
  },
  "language_info": {
   "codemirror_mode": {
    "name": "ipython",
    "version": 3
   },
   "file_extension": ".py",
   "mimetype": "text/x-python",
   "name": "python",
   "nbconvert_exporter": "python",
   "pygments_lexer": "ipython3",
   "version": "3.9.12"
  }
 },
 "nbformat": 4,
 "nbformat_minor": 5
}
