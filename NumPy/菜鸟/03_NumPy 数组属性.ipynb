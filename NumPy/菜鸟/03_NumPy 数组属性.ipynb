{
 "cells": [
  {
   "cell_type": "markdown",
   "id": "5570cb91",
   "metadata": {},
   "source": [
    "# NumPy 数组属性\n",
    "\n",
    "本章节我们将来了解 NumPy 数组的一些 **基本属性**。\n",
    "\n",
    "​\tNumPy **数组的维数** 称为 **秩（rank）**，秩就是 **轴的数量**，即 **数组的维度**，一维数组的秩为 1，二维数组的秩为 2，以此类推。\n",
    "\n",
    "​\t在 NumPy中，每一个线性的数组称为是一个 **轴（axis）**，也就是 **维度（dimensions）**。\n",
    "\n",
    "​\t比如说，二维数组相当于是两个一维数组，其中第一个一维数组中每个元素又是一个一维数组。所以一维数组就是 NumPy 中的 轴（axis），第一个轴相当于是 **底层数组**，第二个轴是 **底层数组里的数组**。而轴的数量 —— 秩，就是 **数组的维数**。\n",
    "\n",
    "很多时候可以声明 `axis`。\n",
    "\n",
    "- `axis=0`，表示沿着第 0 轴进行操作，即对每一列进行操作；\n",
    "- `axis=1`，表示沿着第1轴进行操作，即对每一行进行操作。\n",
    "\n",
    "NumPy 的数组中比较重要 `ndarray` 对象属性有：\n",
    "\n",
    "| 属性               | 说明                                                         |\n",
    "| :----------------- | -----------------------------------------------------------:|\n",
    "| `ndarray.ndim`     | 秩，即轴的数量或维度的数量                                   |\n",
    "| `ndarray.shape`    | 数组的维度，对于矩阵，n 行 m 列                              |\n",
    "| `ndarray.size`     | 数组元素的总个数，相当于 `.shape` 中 `n * m` 的值            |\n",
    "| `ndarray.dtype`    | `ndarray` 对象的元素类型                                     |\n",
    "| `ndarray.itemsize` | `ndarray` 对象中每个元素的大小，以字节为单位                 |\n",
    "| `ndarray.flags`    | `ndarray` 对象的内存信息                                     |\n",
    "| `ndarray.real`     | `ndarray` 元素的实部                                         |\n",
    "| `ndarray.imag`     | `ndarray` 元素的虚部                                         |\n",
    "| `ndarray.data`     | 包含实际数组元素的缓冲区，由于一般通过数组的索引获取元素，所以通常不需要使用这个属性。 |\n",
    "\n",
    "### `ndarray.ndim`\n",
    "\n",
    "`ndarray.ndim` 用于返回数组的维数，等于秩。\n",
    "\n"
   ]
  },
  {
   "cell_type": "markdown",
   "id": "a2da258f",
   "metadata": {},
   "source": [
    "#### 实例"
   ]
  },
  {
   "cell_type": "code",
   "execution_count": 31,
   "id": "586dd084",
   "metadata": {},
   "outputs": [],
   "source": [
    "import numpy as np"
   ]
  },
  {
   "cell_type": "code",
   "execution_count": 32,
   "id": "c5ca570e",
   "metadata": {},
   "outputs": [
    {
     "name": "stdout",
     "output_type": "stream",
     "text": [
      "a的维度: 1\n",
      "b的维度: 3\n"
     ]
    }
   ],
   "source": [
    "a = np.arange(24) # a 现在只有一个维度\n",
    "print('a的维度:',a.ndim)\n",
    "\n",
    "# 现在调整其大小\n",
    "b = a.reshape(2, 4, 3) # b 现在拥有三个维度\n",
    "print('b的维度:',b.ndim)"
   ]
  },
  {
   "cell_type": "markdown",
   "id": "289d5947",
   "metadata": {},
   "source": [
    "### `ndarray.shape`\n",
    "\n",
    "`ndarray.shape` 表示数组的维度，返回一个元组，这个元组的长度就是维度的数目，即 `ndim` 属性(秩)。比如，一个二维数组，其维度表示\"行数\"和\"列数\"。\n",
    "\n",
    "`ndarray.shape` 也可以用于调整数组大小。"
   ]
  },
  {
   "cell_type": "markdown",
   "id": "e4081531",
   "metadata": {},
   "source": [
    "#### 实例"
   ]
  },
  {
   "cell_type": "code",
   "execution_count": 33,
   "id": "d8a492f5",
   "metadata": {},
   "outputs": [
    {
     "data": {
      "text/plain": [
       "(2, 3)"
      ]
     },
     "execution_count": 33,
     "metadata": {},
     "output_type": "execute_result"
    }
   ],
   "source": [
    "a = np.array([\n",
    "    [1, 2, 3],\n",
    "    [4, 5, 6]\n",
    "])\n",
    "a.shape"
   ]
  },
  {
   "cell_type": "markdown",
   "id": "ed6dbb1f",
   "metadata": {},
   "source": [
    "NumPy 也提供了 `reshape` 函数来调整数组大小。"
   ]
  },
  {
   "cell_type": "code",
   "execution_count": 34,
   "id": "5269e144",
   "metadata": {},
   "outputs": [
    {
     "data": {
      "text/plain": [
       "array([[1, 2],\n",
       "       [3, 4],\n",
       "       [5, 6]])"
      ]
     },
     "execution_count": 34,
     "metadata": {},
     "output_type": "execute_result"
    }
   ],
   "source": [
    "# 调整数组大小\n",
    "a.shape = (3, 2)\n",
    "a"
   ]
  },
  {
   "cell_type": "markdown",
   "id": "56394cfb",
   "metadata": {},
   "source": [
    "### `ndarray.itemsize`\n",
    "\n",
    "`ndarray.itemsize` 以字节的形式返回数组中每一个 **元素的大小**。\n",
    "\n",
    "​\t例如，一个元素类型为 `float64` 的数组 `itemsize` 属性值为 8 (`float64` 占用 64 个 bits，每个字节长度为 8，所以 `64/8`，占用 8 个字节），又如，一个元素类型为 `complex32` 的数组 `item` 属性为 4（`32/8`）。"
   ]
  },
  {
   "cell_type": "code",
   "execution_count": 35,
   "id": "eb89fedb",
   "metadata": {},
   "outputs": [
    {
     "name": "stdout",
     "output_type": "stream",
     "text": [
      "1\n",
      "8\n"
     ]
    }
   ],
   "source": [
    "# 数组的 dtype 为 int8（一个字节）\n",
    "x = np.array(range(1, 6), dtype = np.int8)\n",
    "print(x.itemsize)\n",
    "\n",
    "# 数组的 dtype 为 float64（八个字节）\n",
    "y = np.array(range(1, 6), dtype = np.float64)\n",
    "print(y.itemsize)"
   ]
  },
  {
   "cell_type": "markdown",
   "id": "00443508",
   "metadata": {},
   "source": [
    "### `ndarray.flags`\n",
    "\n",
    "`ndarray.flags` 返回 `ndarray` 对象的内存信息，包含以下属性：\n",
    "\n",
    "| 属性               |                                                         描述 |\n",
    "| :----------------- | :----------------------------------------------------------- |\n",
    "| `C_CONTIGUOUS (C)` |                            数据是在一个单一的C风格的连续段中 |\n",
    "| `F_CONTIGUOUS (F)` |                      数据是在一个单一的Fortran风格的连续段中 |\n",
    "| `OWNDATA (O)`      |                 数组拥有它所使用的内存或从另一个对象中借用它 |\n",
    "| `WRITEABLE (W)`    |         数据区域可以被写入，将该值设置为 False，则数据为只读 |\n",
    "| `ALIGNED (A)`      |                           数据和所有元素都适当地对齐到硬件上 |\n",
    "| `UPDATEIFCOPY (U)` | 这个数组是其它数组的一个副本，当这个数组被释放时，原数组的内容将被更新 |\n",
    "\n"
   ]
  },
  {
   "cell_type": "code",
   "execution_count": 37,
   "id": "dabd8596",
   "metadata": {},
   "outputs": [
    {
     "data": {
      "text/plain": [
       "  C_CONTIGUOUS : True\n",
       "  F_CONTIGUOUS : True\n",
       "  OWNDATA : True\n",
       "  WRITEABLE : True\n",
       "  ALIGNED : True\n",
       "  WRITEBACKIFCOPY : False\n",
       "  UPDATEIFCOPY : False"
      ]
     },
     "execution_count": 37,
     "metadata": {},
     "output_type": "execute_result"
    }
   ],
   "source": [
    "x = np.array(range(1, 6))\n",
    "x.flags"
   ]
  }
 ],
 "metadata": {
  "kernelspec": {
   "display_name": "Python 3 (ipykernel)",
   "language": "python",
   "name": "python3"
  },
  "language_info": {
   "codemirror_mode": {
    "name": "ipython",
    "version": 3
   },
   "file_extension": ".py",
   "mimetype": "text/x-python",
   "name": "python",
   "nbconvert_exporter": "python",
   "pygments_lexer": "ipython3",
   "version": "3.9.12"
  }
 },
 "nbformat": 4,
 "nbformat_minor": 5
}
