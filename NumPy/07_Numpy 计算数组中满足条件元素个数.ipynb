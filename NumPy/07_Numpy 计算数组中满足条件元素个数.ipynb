{
 "cells": [
  {
   "cell_type": "markdown",
   "id": "a47e5284",
   "metadata": {},
   "source": [
    "# NumPy 计算数组中满足条件元素的个数\n",
    "\n",
    "需求：有一个非常大的数组比如 1 亿个数字，求出里面数字小于 5000 的数字数目"
   ]
  },
  {
   "cell_type": "markdown",
   "id": "7dd97106",
   "metadata": {},
   "source": [
    "## 1.使用 NumPy 的 random 模块生成 1 亿个数字"
   ]
  },
  {
   "cell_type": "code",
   "execution_count": 1,
   "id": "7cbae085",
   "metadata": {},
   "outputs": [],
   "source": [
    "import numpy as np"
   ]
  },
  {
   "cell_type": "code",
   "execution_count": 2,
   "id": "4dc940f8",
   "metadata": {},
   "outputs": [],
   "source": [
    "arr = np.random.randint(1, 10000, size=int(1e8)) # 生成均匀分布的随机数[1, 10000)，1E8 代表数字是 100000000"
   ]
  },
  {
   "cell_type": "code",
   "execution_count": 3,
   "id": "803bb2a8",
   "metadata": {},
   "outputs": [
    {
     "data": {
      "text/plain": [
       "array([6280, 3347, 1062, 6258, 7126, 8401, 1804, 2627, 8586, 2163])"
      ]
     },
     "execution_count": 3,
     "metadata": {},
     "output_type": "execute_result"
    }
   ],
   "source": [
    "arr[:10] # 选出前十个元素"
   ]
  },
  {
   "cell_type": "code",
   "execution_count": 4,
   "id": "d0d6c740",
   "metadata": {},
   "outputs": [
    {
     "data": {
      "text/plain": [
       "100000000"
      ]
     },
     "execution_count": 4,
     "metadata": {},
     "output_type": "execute_result"
    }
   ],
   "source": [
    "arr.size # 大小"
   ]
  },
  {
   "cell_type": "markdown",
   "id": "62a114e0",
   "metadata": {},
   "source": [
    "## 2.使用 Python 原生语法实现 "
   ]
  },
  {
   "cell_type": "code",
   "execution_count": 5,
   "id": "b35b404f",
   "metadata": {},
   "outputs": [],
   "source": [
    "python_arr = list(arr)"
   ]
  },
  {
   "cell_type": "code",
   "execution_count": 6,
   "id": "6009f2b8",
   "metadata": {},
   "outputs": [
    {
     "data": {
      "text/plain": [
       "49997593"
      ]
     },
     "execution_count": 6,
     "metadata": {},
     "output_type": "execute_result"
    }
   ],
   "source": [
    "# 计算一下结果，用于对比是否准确\n",
    "len([x for x in python_arr if x > 5000]) # 用列表解析式的方式计算"
   ]
  },
  {
   "cell_type": "code",
   "execution_count": 7,
   "id": "1b57c4b9",
   "metadata": {},
   "outputs": [
    {
     "name": "stdout",
     "output_type": "stream",
     "text": [
      "15.5 s ± 663 ms per loop (mean ± std. dev. of 7 runs, 1 loop each)\n"
     ]
    }
   ],
   "source": [
    "# 记一下时间\n",
    "%timeit len([x for x in python_arr if x > 5000])"
   ]
  },
  {
   "cell_type": "markdown",
   "id": "9d2296ae",
   "metadata": {},
   "source": [
    "## 3. 使用 numpy 的向量化操作实现"
   ]
  },
  {
   "cell_type": "code",
   "execution_count": 8,
   "id": "eb07a4a3",
   "metadata": {},
   "outputs": [
    {
     "data": {
      "text/plain": [
       "49997593"
      ]
     },
     "execution_count": 8,
     "metadata": {},
     "output_type": "execute_result"
    }
   ],
   "source": [
    "# 计算一下结果，用于对比是否准确\n",
    "arr[arr > 5000].size"
   ]
  },
  {
   "cell_type": "code",
   "execution_count": 9,
   "id": "09c632f3",
   "metadata": {},
   "outputs": [
    {
     "data": {
      "text/plain": [
       "array([ True, False, False,  True,  True,  True, False, False,  True,\n",
       "       False])"
      ]
     },
     "execution_count": 9,
     "metadata": {},
     "output_type": "execute_result"
    }
   ],
   "source": [
    "(arr > 5000)[:10]"
   ]
  },
  {
   "cell_type": "code",
   "execution_count": 10,
   "id": "67431ed7",
   "metadata": {},
   "outputs": [
    {
     "name": "stdout",
     "output_type": "stream",
     "text": [
      "138 ms ± 22.8 ms per loop (mean ± std. dev. of 7 runs, 10 loops each)\n"
     ]
    }
   ],
   "source": [
    "# 记一下时间\n",
    "%timeit (arr > 5000)[:10]"
   ]
  },
  {
   "cell_type": "markdown",
   "id": "0db387e7",
   "metadata": {},
   "source": [
    "## 4.对比下时间"
   ]
  },
  {
   "cell_type": "code",
   "execution_count": 12,
   "id": "ab37b970",
   "metadata": {},
   "outputs": [
    {
     "data": {
      "text/plain": [
       "112.31884057971014"
      ]
     },
     "execution_count": 12,
     "metadata": {},
     "output_type": "execute_result"
    }
   ],
   "source": [
    "15.5 * 1000 / 138 # 可见，numpy 比 Python 原生语法快了 112 倍还多"
   ]
  }
 ],
 "metadata": {
  "kernelspec": {
   "display_name": "Python 3 (ipykernel)",
   "language": "python",
   "name": "python3"
  },
  "language_info": {
   "codemirror_mode": {
    "name": "ipython",
    "version": 3
   },
   "file_extension": ".py",
   "mimetype": "text/x-python",
   "name": "python",
   "nbconvert_exporter": "python",
   "pygments_lexer": "ipython3",
   "version": "3.9.12"
  }
 },
 "nbformat": 4,
 "nbformat_minor": 5
}
