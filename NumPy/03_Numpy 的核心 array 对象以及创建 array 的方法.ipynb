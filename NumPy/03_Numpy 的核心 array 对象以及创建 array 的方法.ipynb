{
 "cells": [
  {
   "cell_type": "markdown",
   "id": "5cf0f7ff",
   "metadata": {},
   "source": [
    "# Numpy 的核心 array 对象以及创建 array 的方法"
   ]
  },
  {
   "cell_type": "markdown",
   "id": "dc63cfce",
   "metadata": {},
   "source": [
    "##### array 对象的背景：\n",
    "\n",
    "- `Numpy` 的 **核心数据结构**，就叫做 `array` 就是 **数组**，`array` 对象可以是 **一维数组**，**也可以是多维数组**；\n",
    "- `Python` 的 `List` 也可以实现相同的功能，但是 `array` 比 `List` 的优点在于 **性能好**、**包含数组元数据信息**、**大量的便捷函数**；\n",
    "- `Numpy` 成为事实上的 `Scipy`、`Pandas`、`Scikit-Learn`、`Tensorflow`、`PaddlePaddle` 等框架的 **“通用底层语言”**\n",
    "- `Numpy` 的 `array` 和 `Python` 的 `List` 的一个区别，是它 **元素必须都是同一种数据类型**，比如都是数字 `int` 类型，这也是 `Numpy` 高性能的一个原因；\n",
    "\n",
    "##### array 本身的属性\n",
    "\n",
    "- `shape` : 返回一个元组，表示 `array` 的维度\n",
    "- `ndim` : 一个数字，表示 `array` 的维度的数目\n",
    "- `size` : 一个数字，表示 `array` 中所有数据元素的数目\n",
    "- `dtype` : `array` 中元素的数据类型\n",
    "\n",
    "##### 创建 array 的方法\n",
    "\n",
    "- 从 `Python` 的列表 `List` 和嵌套列表创建 `array`\n",
    "- 使用预定函数 `arange`、`ones/ones_like`【**数组全为 1**】、`zeros/zeros_like`【**数组全为 0**】、`empty/empty_like`【**数组全为空**】、`full/full_like`【**数组全为指定数值**】、`eye`【**矩阵对角线全为 1**】 等函数创建\n",
    "- **生成随机数** 的 `np.random` 模块构建\n",
    "\n",
    "##### `array` 本身支持的大量操作和函数\n",
    "\n",
    "- 直接 **逐元素的加减乘除** 等算数操作\n",
    "\n",
    "- 更好用的 **面向多维的数组索引**\n",
    "- 求 `sum/mean` 等 **聚合函数**\n",
    "- 线性代数函数，比如 **求解逆矩阵**、**求解方程组**"
   ]
  },
  {
   "cell_type": "markdown",
   "id": "ad33b27c",
   "metadata": {},
   "source": [
    "## 1. 使用 Python 的 List 和嵌套 List 创建一维的 array 和二维的 array"
   ]
  },
  {
   "cell_type": "code",
   "execution_count": 1,
   "id": "da789f61",
   "metadata": {},
   "outputs": [],
   "source": [
    "import numpy as np"
   ]
  },
  {
   "cell_type": "code",
   "execution_count": 2,
   "id": "952bb890",
   "metadata": {},
   "outputs": [],
   "source": [
    "# 创建一个以为数组，也就是 Python 的单元素 List\n",
    "x = np.array([1,2,3,4,5,6,7,8])"
   ]
  },
  {
   "cell_type": "code",
   "execution_count": 3,
   "id": "cdee4a0b",
   "metadata": {},
   "outputs": [
    {
     "data": {
      "text/plain": [
       "array([1, 2, 3, 4, 5, 6, 7, 8])"
      ]
     },
     "execution_count": 3,
     "metadata": {},
     "output_type": "execute_result"
    }
   ],
   "source": [
    "x"
   ]
  },
  {
   "cell_type": "code",
   "execution_count": 9,
   "id": "75bf1ead",
   "metadata": {},
   "outputs": [],
   "source": [
    "# 创建一个二维数组，也就是 Python 的嵌套 List\n",
    "x2 = np.array(\n",
    "    [\n",
    "        [1,2,3,4],\n",
    "        [5,6,7,8]\n",
    "    ]\n",
    ")"
   ]
  },
  {
   "cell_type": "code",
   "execution_count": 10,
   "id": "612111a6",
   "metadata": {},
   "outputs": [
    {
     "data": {
      "text/plain": [
       "array([[1, 2, 3, 4],\n",
       "       [5, 6, 7, 8]])"
      ]
     },
     "execution_count": 10,
     "metadata": {},
     "output_type": "execute_result"
    }
   ],
   "source": [
    "x2"
   ]
  },
  {
   "cell_type": "markdown",
   "id": "95cde2d3",
   "metadata": {},
   "source": [
    "## 2. 探索数组 array 的属性"
   ]
  },
  {
   "cell_type": "markdown",
   "id": "7518cc1d",
   "metadata": {},
   "source": [
    "#### 2.1 维度"
   ]
  },
  {
   "cell_type": "code",
   "execution_count": 11,
   "id": "0a1fb68e",
   "metadata": {},
   "outputs": [
    {
     "data": {
      "text/plain": [
       "(8,)"
      ]
     },
     "execution_count": 11,
     "metadata": {},
     "output_type": "execute_result"
    }
   ],
   "source": [
    "x.shape"
   ]
  },
  {
   "cell_type": "code",
   "execution_count": 12,
   "id": "8299ccfc",
   "metadata": {},
   "outputs": [
    {
     "data": {
      "text/plain": [
       "(2, 4)"
      ]
     },
     "execution_count": 12,
     "metadata": {},
     "output_type": "execute_result"
    }
   ],
   "source": [
    "x2.shape"
   ]
  },
  {
   "cell_type": "markdown",
   "id": "4cd57146",
   "metadata": {},
   "source": [
    "#### 2.2 维度数目"
   ]
  },
  {
   "cell_type": "code",
   "execution_count": 13,
   "id": "267525da",
   "metadata": {},
   "outputs": [
    {
     "data": {
      "text/plain": [
       "1"
      ]
     },
     "execution_count": 13,
     "metadata": {},
     "output_type": "execute_result"
    }
   ],
   "source": [
    "x.ndim"
   ]
  },
  {
   "cell_type": "code",
   "execution_count": 14,
   "id": "36356cdd",
   "metadata": {},
   "outputs": [
    {
     "data": {
      "text/plain": [
       "2"
      ]
     },
     "execution_count": 14,
     "metadata": {},
     "output_type": "execute_result"
    }
   ],
   "source": [
    "x2.ndim"
   ]
  },
  {
   "cell_type": "markdown",
   "id": "f1291bc6",
   "metadata": {},
   "source": [
    "#### 2.3 数据元素数目"
   ]
  },
  {
   "cell_type": "code",
   "execution_count": 15,
   "id": "6163d6b8",
   "metadata": {},
   "outputs": [
    {
     "data": {
      "text/plain": [
       "8"
      ]
     },
     "execution_count": 15,
     "metadata": {},
     "output_type": "execute_result"
    }
   ],
   "source": [
    "x.size"
   ]
  },
  {
   "cell_type": "code",
   "execution_count": 16,
   "id": "70d256f8",
   "metadata": {},
   "outputs": [
    {
     "data": {
      "text/plain": [
       "8"
      ]
     },
     "execution_count": 16,
     "metadata": {},
     "output_type": "execute_result"
    }
   ],
   "source": [
    "x2.size"
   ]
  },
  {
   "cell_type": "markdown",
   "id": "c9f7c2bb",
   "metadata": {},
   "source": [
    "#### 2.4 数据类型"
   ]
  },
  {
   "cell_type": "code",
   "execution_count": 17,
   "id": "3459635e",
   "metadata": {},
   "outputs": [
    {
     "data": {
      "text/plain": [
       "dtype('int64')"
      ]
     },
     "execution_count": 17,
     "metadata": {},
     "output_type": "execute_result"
    }
   ],
   "source": [
    "x.dtype"
   ]
  },
  {
   "cell_type": "code",
   "execution_count": 18,
   "id": "dcf1b02a",
   "metadata": {},
   "outputs": [
    {
     "data": {
      "text/plain": [
       "dtype('int64')"
      ]
     },
     "execution_count": 18,
     "metadata": {},
     "output_type": "execute_result"
    }
   ],
   "source": [
    "x2.dtype"
   ]
  },
  {
   "cell_type": "markdown",
   "id": "1bdec242",
   "metadata": {},
   "source": [
    "## 3. 创建 array 的便捷函数"
   ]
  },
  {
   "cell_type": "markdown",
   "id": "36e47e88",
   "metadata": {},
   "source": [
    "##### 使用 arange 创建数字序列 【类似 Python 的 range 函数】\n",
    "\n",
    "`arange([start,]stop[,step],dype=None)` "
   ]
  },
  {
   "cell_type": "code",
   "execution_count": 19,
   "id": "2f2a7073",
   "metadata": {},
   "outputs": [
    {
     "data": {
      "text/plain": [
       "array([0, 1, 2, 3, 4, 5, 6, 7, 8, 9])"
      ]
     },
     "execution_count": 19,
     "metadata": {},
     "output_type": "execute_result"
    }
   ],
   "source": [
    "np.arange(10)"
   ]
  },
  {
   "cell_type": "code",
   "execution_count": 21,
   "id": "c43c7b45",
   "metadata": {},
   "outputs": [
    {
     "data": {
      "text/plain": [
       "array([2, 4, 6, 8])"
      ]
     },
     "execution_count": 21,
     "metadata": {},
     "output_type": "execute_result"
    }
   ],
   "source": [
    "np.arange(2,10,2) # 从 2 开始到 10 结束，步长为 2"
   ]
  },
  {
   "cell_type": "markdown",
   "id": "98a32eab",
   "metadata": {},
   "source": [
    "##### 使用 ones 创建全是 1 的数组\n",
    "\n",
    "`np.ones(shape,dtype=None,order=\"C\")`\n",
    "\n",
    "shape : int or tuple of ints Shape of the new array, e.g.,`(2,3)` or `2`\n"
   ]
  },
  {
   "cell_type": "code",
   "execution_count": 22,
   "id": "c5d345d0",
   "metadata": {},
   "outputs": [
    {
     "data": {
      "text/plain": [
       "array([1., 1., 1., 1., 1., 1., 1., 1., 1., 1.])"
      ]
     },
     "execution_count": 22,
     "metadata": {},
     "output_type": "execute_result"
    }
   ],
   "source": [
    "np.ones(10) # 一维"
   ]
  },
  {
   "cell_type": "code",
   "execution_count": 25,
   "id": "32c8a0b8",
   "metadata": {},
   "outputs": [
    {
     "data": {
      "text/plain": [
       "array([[1., 1., 1.],\n",
       "       [1., 1., 1.]])"
      ]
     },
     "execution_count": 25,
     "metadata": {},
     "output_type": "execute_result"
    }
   ],
   "source": [
    "np.ones((2,3)) # 两行三列"
   ]
  },
  {
   "cell_type": "markdown",
   "id": "79574db8",
   "metadata": {},
   "source": [
    "使用 ones_like 创建形状相同的数组\n",
    "\n",
    "`ones_like(a,dtype=float,order=\"C\")`"
   ]
  },
  {
   "cell_type": "code",
   "execution_count": 26,
   "id": "7566c5dc",
   "metadata": {},
   "outputs": [
    {
     "data": {
      "text/plain": [
       "array([1, 1, 1, 1, 1, 1, 1, 1])"
      ]
     },
     "execution_count": 26,
     "metadata": {},
     "output_type": "execute_result"
    }
   ],
   "source": [
    "np.ones_like(x) # x 是一维的，仿照 x 创建的数组"
   ]
  },
  {
   "cell_type": "code",
   "execution_count": 27,
   "id": "0677a50a",
   "metadata": {},
   "outputs": [
    {
     "data": {
      "text/plain": [
       "array([[1, 1, 1, 1],\n",
       "       [1, 1, 1, 1]])"
      ]
     },
     "execution_count": 27,
     "metadata": {},
     "output_type": "execute_result"
    }
   ],
   "source": [
    "np.ones_like(x2) # x2 是二维的，仿照 x2 创建的数组"
   ]
  },
  {
   "cell_type": "markdown",
   "id": "3618e3de",
   "metadata": {},
   "source": [
    "##### 使用 zeros 创建全是 0 的数组\n",
    "\n",
    "`np.zeros(shape,dtype=None,order=\"C\")`"
   ]
  },
  {
   "cell_type": "code",
   "execution_count": 28,
   "id": "0ef405cd",
   "metadata": {},
   "outputs": [
    {
     "data": {
      "text/plain": [
       "array([0., 0., 0., 0., 0., 0., 0., 0., 0., 0.])"
      ]
     },
     "execution_count": 28,
     "metadata": {},
     "output_type": "execute_result"
    }
   ],
   "source": [
    "np.zeros(10)"
   ]
  },
  {
   "cell_type": "code",
   "execution_count": 30,
   "id": "672d62bf",
   "metadata": {},
   "outputs": [
    {
     "data": {
      "text/plain": [
       "array([[0., 0., 0., 0.],\n",
       "       [0., 0., 0., 0.]])"
      ]
     },
     "execution_count": 30,
     "metadata": {},
     "output_type": "execute_result"
    }
   ],
   "source": [
    "np.zeros((2,4))"
   ]
  },
  {
   "cell_type": "markdown",
   "id": "cc83932d",
   "metadata": {},
   "source": [
    "##### 使用 zeros_like 创建形状相同的 0 数组 【同上 `ones_like`】\n",
    "\n",
    "`np.zeros_like(a,dtype=None)`"
   ]
  },
  {
   "cell_type": "code",
   "execution_count": 31,
   "id": "0ee4f029",
   "metadata": {},
   "outputs": [
    {
     "data": {
      "text/plain": [
       "array([0, 0, 0, 0, 0, 0, 0, 0])"
      ]
     },
     "execution_count": 31,
     "metadata": {},
     "output_type": "execute_result"
    }
   ],
   "source": [
    "np.zeros_like(x)"
   ]
  },
  {
   "cell_type": "code",
   "execution_count": 32,
   "id": "7251b478",
   "metadata": {},
   "outputs": [
    {
     "data": {
      "text/plain": [
       "array([[0, 0, 0, 0],\n",
       "       [0, 0, 0, 0]])"
      ]
     },
     "execution_count": 32,
     "metadata": {},
     "output_type": "execute_result"
    }
   ],
   "source": [
    "np.zeros_like(x2)"
   ]
  },
  {
   "cell_type": "markdown",
   "id": "de2994f6",
   "metadata": {},
   "source": [
    "##### 使用 empty 创建全是 0 的数组【未初始化的】\n",
    "\n",
    "`empty(shape,dtype=float,order=\"C\")`\n",
    "\n",
    "注意：数据是未初始化的，里面的值可能是随机值不要用"
   ]
  },
  {
   "cell_type": "code",
   "execution_count": 33,
   "id": "2ee81370",
   "metadata": {},
   "outputs": [
    {
     "data": {
      "text/plain": [
       "array([0., 0., 0., 0., 0., 0., 0., 0., 0., 0.])"
      ]
     },
     "execution_count": 33,
     "metadata": {},
     "output_type": "execute_result"
    }
   ],
   "source": [
    "np.empty(10)"
   ]
  },
  {
   "cell_type": "code",
   "execution_count": 34,
   "id": "16291254",
   "metadata": {},
   "outputs": [
    {
     "data": {
      "text/plain": [
       "array([[4.68473395e-310, 0.00000000e+000, 0.00000000e+000,\n",
       "        0.00000000e+000],\n",
       "       [0.00000000e+000, 0.00000000e+000, 6.20428116e+223,\n",
       "        3.29160367e-318]])"
      ]
     },
     "execution_count": 34,
     "metadata": {},
     "output_type": "execute_result"
    }
   ],
   "source": [
    "np.empty((2,4))"
   ]
  },
  {
   "cell_type": "markdown",
   "id": "7f6985c0",
   "metadata": {},
   "source": [
    "##### 使用 empty_like 创建形状相同的数组\n",
    "\n",
    "`empty_like(prototype,dtype=None)`"
   ]
  },
  {
   "cell_type": "code",
   "execution_count": 35,
   "id": "deefb71c",
   "metadata": {},
   "outputs": [
    {
     "data": {
      "text/plain": [
       "array([     94820070742976,                   0,                   0,\n",
       "                         0,                   0,                   0,\n",
       "       7954892334483857255,              666228])"
      ]
     },
     "execution_count": 35,
     "metadata": {},
     "output_type": "execute_result"
    }
   ],
   "source": [
    "np.empty_like(x)"
   ]
  },
  {
   "cell_type": "code",
   "execution_count": 36,
   "id": "63d40eda",
   "metadata": {},
   "outputs": [
    {
     "data": {
      "text/plain": [
       "array([[94820070742976,              0,   489626271845,   493921239151],\n",
       "       [  463856468063,   459561500777,   171798691941,   176093659256]])"
      ]
     },
     "execution_count": 36,
     "metadata": {},
     "output_type": "execute_result"
    }
   ],
   "source": [
    "np.empty_like(x2)"
   ]
  },
  {
   "cell_type": "markdown",
   "id": "b28a065d",
   "metadata": {},
   "source": [
    "##### 使用 full 创建指定值的数组\n",
    "\n",
    "`np.full(shape,fill_value,dtype=None,order=\"C\")`"
   ]
  },
  {
   "cell_type": "code",
   "execution_count": 37,
   "id": "4ce52343",
   "metadata": {},
   "outputs": [
    {
     "data": {
      "text/plain": [
       "array([666, 666, 666, 666, 666, 666, 666, 666, 666, 666])"
      ]
     },
     "execution_count": 37,
     "metadata": {},
     "output_type": "execute_result"
    }
   ],
   "source": [
    "np.full(10,666)"
   ]
  },
  {
   "cell_type": "code",
   "execution_count": 38,
   "id": "54c494c9",
   "metadata": {},
   "outputs": [
    {
     "data": {
      "text/plain": [
       "array([[333, 333, 333, 333],\n",
       "       [333, 333, 333, 333]])"
      ]
     },
     "execution_count": 38,
     "metadata": {},
     "output_type": "execute_result"
    }
   ],
   "source": [
    "np.full((2,4),333)"
   ]
  },
  {
   "cell_type": "markdown",
   "id": "e663ca42",
   "metadata": {},
   "source": [
    "##### 使用 full_like 创建形状相同的数组\n",
    "\n",
    "`np.full_like(a,fill_value,dtype=None)`"
   ]
  },
  {
   "cell_type": "code",
   "execution_count": 39,
   "id": "44fb8b92",
   "metadata": {},
   "outputs": [
    {
     "data": {
      "text/plain": [
       "array([666, 666, 666, 666, 666, 666, 666, 666])"
      ]
     },
     "execution_count": 39,
     "metadata": {},
     "output_type": "execute_result"
    }
   ],
   "source": [
    "np.full_like(x,666)"
   ]
  },
  {
   "cell_type": "code",
   "execution_count": 40,
   "id": "9a4d0f8b",
   "metadata": {},
   "outputs": [
    {
     "data": {
      "text/plain": [
       "array([[666, 666, 666, 666],\n",
       "       [666, 666, 666, 666]])"
      ]
     },
     "execution_count": 40,
     "metadata": {},
     "output_type": "execute_result"
    }
   ],
   "source": [
    "np.full_like(x2,666)"
   ]
  },
  {
   "cell_type": "markdown",
   "id": "418de26c",
   "metadata": {},
   "source": [
    "使用 random 模块生成随机数的数组\n",
    "\n",
    "`randn(d0,d1,...,dn)`"
   ]
  },
  {
   "cell_type": "code",
   "execution_count": 41,
   "id": "c57a5c9a",
   "metadata": {},
   "outputs": [
    {
     "data": {
      "text/plain": [
       "1.1052141589620574"
      ]
     },
     "execution_count": 41,
     "metadata": {},
     "output_type": "execute_result"
    }
   ],
   "source": [
    "np.random.randn() # 一个随机数"
   ]
  },
  {
   "cell_type": "code",
   "execution_count": 42,
   "id": "63d549ba",
   "metadata": {},
   "outputs": [
    {
     "data": {
      "text/plain": [
       "array([-0.33551328, -0.2888917 , -0.73527532])"
      ]
     },
     "execution_count": 42,
     "metadata": {},
     "output_type": "execute_result"
    }
   ],
   "source": [
    "np.random.randn(3) # 三行的一维数组"
   ]
  },
  {
   "cell_type": "code",
   "execution_count": 43,
   "id": "d5ca7ae9",
   "metadata": {},
   "outputs": [
    {
     "data": {
      "text/plain": [
       "array([[ 0.02996096,  0.90889268],\n",
       "       [ 1.15428802, -1.47112441],\n",
       "       [-2.15848369,  1.35723324]])"
      ]
     },
     "execution_count": 43,
     "metadata": {},
     "output_type": "execute_result"
    }
   ],
   "source": [
    "np.random.randn(3,2) # 三行两列的二维数组"
   ]
  },
  {
   "cell_type": "code",
   "execution_count": 44,
   "id": "15c667a1",
   "metadata": {},
   "outputs": [
    {
     "data": {
      "text/plain": [
       "array([[[ 0.33107079, -1.04353086, -0.3064977 ,  0.31906292],\n",
       "        [-1.18198374,  2.17332668,  0.08745776, -1.06653117]],\n",
       "\n",
       "       [[-0.05823263,  1.48884225,  0.82187316, -0.1621461 ],\n",
       "        [ 1.13434633, -0.68631212,  1.23923138,  0.22738124]],\n",
       "\n",
       "       [[ 0.16228155, -0.31755364, -0.29193169,  0.49608777],\n",
       "        [ 0.06364697,  0.74458333, -1.1110425 ,  0.27380708]]])"
      ]
     },
     "execution_count": 44,
     "metadata": {},
     "output_type": "execute_result"
    }
   ],
   "source": [
    "np.random.randn(3,2,4) # 三块，两行四列"
   ]
  },
  {
   "cell_type": "markdown",
   "id": "21f57992",
   "metadata": {},
   "source": [
    "## 3. 创建 array 的便捷函数\n",
    "\n",
    "这些操作如果用 Python 实现需要写很多 for 循环，用 numpy 数组则很容易实现"
   ]
  },
  {
   "cell_type": "code",
   "execution_count": 51,
   "id": "e4f18ebb",
   "metadata": {},
   "outputs": [],
   "source": [
    "A = np.arange(10).reshape(2,5) # 将一维数组 -> 二维数组"
   ]
  },
  {
   "cell_type": "code",
   "execution_count": 52,
   "id": "c901ab1c",
   "metadata": {},
   "outputs": [
    {
     "data": {
      "text/plain": [
       "array([[0, 1, 2, 3, 4],\n",
       "       [5, 6, 7, 8, 9]])"
      ]
     },
     "execution_count": 52,
     "metadata": {},
     "output_type": "execute_result"
    }
   ],
   "source": [
    "A"
   ]
  },
  {
   "cell_type": "code",
   "execution_count": 54,
   "id": "6d90c457",
   "metadata": {},
   "outputs": [
    {
     "data": {
      "text/plain": [
       "(2, 5)"
      ]
     },
     "execution_count": 54,
     "metadata": {},
     "output_type": "execute_result"
    }
   ],
   "source": [
    "A.shape"
   ]
  },
  {
   "cell_type": "code",
   "execution_count": 55,
   "id": "2b48a658",
   "metadata": {},
   "outputs": [
    {
     "data": {
      "text/plain": [
       "array([[ 1,  2,  3,  4,  5],\n",
       "       [ 6,  7,  8,  9, 10]])"
      ]
     },
     "execution_count": 55,
     "metadata": {},
     "output_type": "execute_result"
    }
   ],
   "source": [
    "A + 1 # 将数组中的数都 + 1"
   ]
  },
  {
   "cell_type": "code",
   "execution_count": 56,
   "id": "00852b1f",
   "metadata": {},
   "outputs": [
    {
     "data": {
      "text/plain": [
       "array([[ 0,  3,  6,  9, 12],\n",
       "       [15, 18, 21, 24, 27]])"
      ]
     },
     "execution_count": 56,
     "metadata": {},
     "output_type": "execute_result"
    }
   ],
   "source": [
    "A * 3 # 将数组中的数都 × 3"
   ]
  },
  {
   "cell_type": "code",
   "execution_count": 57,
   "id": "1a1baad9",
   "metadata": {},
   "outputs": [
    {
     "data": {
      "text/plain": [
       "array([[ 0.        ,  0.84147098,  0.90929743,  0.14112001, -0.7568025 ],\n",
       "       [-0.95892427, -0.2794155 ,  0.6569866 ,  0.98935825,  0.41211849]])"
      ]
     },
     "execution_count": 57,
     "metadata": {},
     "output_type": "execute_result"
    }
   ],
   "source": [
    "np.sin(A) # 求数组每个数的 sin"
   ]
  },
  {
   "cell_type": "code",
   "execution_count": 58,
   "id": "16ed4752",
   "metadata": {},
   "outputs": [
    {
     "data": {
      "text/plain": [
       "array([[1.00000000e+00, 2.71828183e+00, 7.38905610e+00, 2.00855369e+01,\n",
       "        5.45981500e+01],\n",
       "       [1.48413159e+02, 4.03428793e+02, 1.09663316e+03, 2.98095799e+03,\n",
       "        8.10308393e+03]])"
      ]
     },
     "execution_count": 58,
     "metadata": {},
     "output_type": "execute_result"
    }
   ],
   "source": [
    "np.exp(A) # 求e的数组中数字次方"
   ]
  },
  {
   "cell_type": "code",
   "execution_count": 59,
   "id": "f2e5dba0",
   "metadata": {},
   "outputs": [],
   "source": [
    "B = np.random.randn(2,5)"
   ]
  },
  {
   "cell_type": "code",
   "execution_count": 60,
   "id": "a9463a70",
   "metadata": {},
   "outputs": [
    {
     "data": {
      "text/plain": [
       "array([[-1.42250509, -0.87316486, -0.89578882,  1.31997015, -0.3183106 ],\n",
       "       [-0.55255982, -1.16399146, -1.46618265, -1.87743498, -1.53794725]])"
      ]
     },
     "execution_count": 60,
     "metadata": {},
     "output_type": "execute_result"
    }
   ],
   "source": [
    "B"
   ]
  },
  {
   "cell_type": "code",
   "execution_count": 61,
   "id": "05efc57f",
   "metadata": {},
   "outputs": [
    {
     "data": {
      "text/plain": [
       "array([[-1.42250509,  0.12683514,  1.10421118,  4.31997015,  3.6816894 ],\n",
       "       [ 4.44744018,  4.83600854,  5.53381735,  6.12256502,  7.46205275]])"
      ]
     },
     "execution_count": 61,
     "metadata": {},
     "output_type": "execute_result"
    }
   ],
   "source": [
    "A + B # 对应元素相加"
   ]
  },
  {
   "cell_type": "code",
   "execution_count": 62,
   "id": "162181c8",
   "metadata": {},
   "outputs": [
    {
     "data": {
      "text/plain": [
       "array([[ 1.42250509,  1.87316486,  2.89578882,  1.68002985,  4.3183106 ],\n",
       "       [ 5.55255982,  7.16399146,  8.46618265,  9.87743498, 10.53794725]])"
      ]
     },
     "execution_count": 62,
     "metadata": {},
     "output_type": "execute_result"
    }
   ],
   "source": [
    "A - B # 对应元素相减"
   ]
  }
 ],
 "metadata": {
  "kernelspec": {
   "display_name": "Python 3 (ipykernel)",
   "language": "python",
   "name": "python3"
  },
  "language_info": {
   "codemirror_mode": {
    "name": "ipython",
    "version": 3
   },
   "file_extension": ".py",
   "mimetype": "text/x-python",
   "name": "python",
   "nbconvert_exporter": "python",
   "pygments_lexer": "ipython3",
   "version": "3.9.12"
  }
 },
 "nbformat": 4,
 "nbformat_minor": 5
}
